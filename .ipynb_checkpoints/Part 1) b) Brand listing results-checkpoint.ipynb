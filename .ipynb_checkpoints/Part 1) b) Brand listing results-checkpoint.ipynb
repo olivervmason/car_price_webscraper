{
 "cells": [
  {
   "cell_type": "markdown",
   "id": "bd07229c-e471-42e4-b71d-c933b8b0dcbb",
   "metadata": {},
   "source": [
    "# Part 1) b) Review listing count by manufacturer\n",
    "\n",
    "Here we are going to sort the dataframe of the results in Part 1, to see the spread of manufacturer listings."
   ]
  },
  {
   "cell_type": "code",
   "execution_count": 23,
   "id": "96116215",
   "metadata": {},
   "outputs": [],
   "source": [
    "import pandas as pd\n",
    "import numpy as np"
   ]
  },
  {
   "cell_type": "markdown",
   "id": "c2df2f11-bb64-4709-93af-4e8b85077d36",
   "metadata": {},
   "source": [
    "### Import .csv file"
   ]
  },
  {
   "cell_type": "code",
   "execution_count": 24,
   "id": "c9ff1d24-11b6-4761-8fc7-ac15e735b658",
   "metadata": {},
   "outputs": [],
   "source": [
    "df = pd.read_csv('csv_files/brand_results.csv')"
   ]
  },
  {
   "cell_type": "markdown",
   "id": "be290e12-97b3-4c8b-83ca-df39c38798d7",
   "metadata": {},
   "source": [
    "### Check format"
   ]
  },
  {
   "cell_type": "code",
   "execution_count": 3,
   "id": "c12eb302-40a2-409c-9347-fd45258835d1",
   "metadata": {},
   "outputs": [
    {
     "data": {
      "text/html": [
       "<div>\n",
       "<style scoped>\n",
       "    .dataframe tbody tr th:only-of-type {\n",
       "        vertical-align: middle;\n",
       "    }\n",
       "\n",
       "    .dataframe tbody tr th {\n",
       "        vertical-align: top;\n",
       "    }\n",
       "\n",
       "    .dataframe thead th {\n",
       "        text-align: right;\n",
       "    }\n",
       "</style>\n",
       "<table border=\"1\" class=\"dataframe\">\n",
       "  <thead>\n",
       "    <tr style=\"text-align: right;\">\n",
       "      <th></th>\n",
       "      <th>Unnamed: 0</th>\n",
       "      <th>Results</th>\n",
       "    </tr>\n",
       "  </thead>\n",
       "  <tbody>\n",
       "    <tr>\n",
       "      <th>0</th>\n",
       "      <td>Alfa-Romeo</td>\n",
       "      <td>Showing 136 results\\n</td>\n",
       "    </tr>\n",
       "    <tr>\n",
       "      <th>1</th>\n",
       "      <td>Aston-Martin</td>\n",
       "      <td>Showing 42 results\\n</td>\n",
       "    </tr>\n",
       "    <tr>\n",
       "      <th>2</th>\n",
       "      <td>Audi</td>\n",
       "      <td>Showing 2,837 results\\n</td>\n",
       "    </tr>\n",
       "    <tr>\n",
       "      <th>3</th>\n",
       "      <td>Austin</td>\n",
       "      <td>Error</td>\n",
       "    </tr>\n",
       "    <tr>\n",
       "      <th>4</th>\n",
       "      <td>Bentley</td>\n",
       "      <td>Showing 57 results\\n</td>\n",
       "    </tr>\n",
       "  </tbody>\n",
       "</table>\n",
       "</div>"
      ],
      "text/plain": [
       "     Unnamed: 0                   Results\n",
       "0    Alfa-Romeo     Showing 136 results\\n\n",
       "1  Aston-Martin      Showing 42 results\\n\n",
       "2          Audi   Showing 2,837 results\\n\n",
       "3        Austin                     Error\n",
       "4       Bentley      Showing 57 results\\n"
      ]
     },
     "execution_count": 3,
     "metadata": {},
     "output_type": "execute_result"
    }
   ],
   "source": [
    "df.head()"
   ]
  },
  {
   "cell_type": "markdown",
   "id": "79f4bdb5-850a-4664-ab9e-3d321ee645d1",
   "metadata": {},
   "source": [
    "### Rename 'unnamed' column and set index "
   ]
  },
  {
   "cell_type": "code",
   "execution_count": 4,
   "id": "fff155d5-cc6b-4cef-8edb-94cc370af21a",
   "metadata": {},
   "outputs": [],
   "source": [
    "df.rename(columns = {'Unnamed: 0':'Brand'}, inplace = True)"
   ]
  },
  {
   "cell_type": "code",
   "execution_count": 5,
   "id": "63f118f7-2a01-490a-a77a-410b8fd70b03",
   "metadata": {},
   "outputs": [],
   "source": [
    "df.set_index('Brand', inplace=True)"
   ]
  },
  {
   "cell_type": "markdown",
   "id": "a04ba7f2-f2d6-4413-b161-76c2a89ac1c9",
   "metadata": {},
   "source": [
    "### Create new column for listing count as a numerical field"
   ]
  },
  {
   "cell_type": "code",
   "execution_count": 6,
   "id": "54552809-2dcd-4bdf-8705-1795b08f1a2f",
   "metadata": {},
   "outputs": [],
   "source": [
    "df['Count'] = df['Results'].str[9:-9]"
   ]
  },
  {
   "cell_type": "code",
   "execution_count": 7,
   "id": "7c45bfc1-daf3-4bfb-b974-2fdadac6dde2",
   "metadata": {},
   "outputs": [],
   "source": [
    "df['Count'] = df['Count'].str.replace(',','')"
   ]
  },
  {
   "cell_type": "code",
   "execution_count": 8,
   "id": "69c4f92d-fb26-4e22-bb8c-e109c59e80ae",
   "metadata": {},
   "outputs": [],
   "source": [
    "df['Count'] = df['Count'].replace('', np.nan, regex=True)"
   ]
  },
  {
   "cell_type": "code",
   "execution_count": 9,
   "id": "a2205e0e-2031-4875-89a1-eaead541e408",
   "metadata": {},
   "outputs": [],
   "source": [
    "df['Count'] = df['Count'].astype(float)"
   ]
  },
  {
   "cell_type": "markdown",
   "id": "62956abb-3240-4960-98ad-3d4528e79e0d",
   "metadata": {},
   "source": [
    "### Sort dataframe column by listing count"
   ]
  },
  {
   "cell_type": "code",
   "execution_count": 18,
   "id": "d45fb481-8f1d-4814-900e-8d68c36a0437",
   "metadata": {},
   "outputs": [
    {
     "data": {
      "text/html": [
       "<div>\n",
       "<style scoped>\n",
       "    .dataframe tbody tr th:only-of-type {\n",
       "        vertical-align: middle;\n",
       "    }\n",
       "\n",
       "    .dataframe tbody tr th {\n",
       "        vertical-align: top;\n",
       "    }\n",
       "\n",
       "    .dataframe thead th {\n",
       "        text-align: right;\n",
       "    }\n",
       "</style>\n",
       "<table border=\"1\" class=\"dataframe\">\n",
       "  <thead>\n",
       "    <tr style=\"text-align: right;\">\n",
       "      <th></th>\n",
       "      <th>Results</th>\n",
       "      <th>Count</th>\n",
       "    </tr>\n",
       "    <tr>\n",
       "      <th>Brand</th>\n",
       "      <th></th>\n",
       "      <th></th>\n",
       "    </tr>\n",
       "  </thead>\n",
       "  <tbody>\n",
       "    <tr>\n",
       "      <th>Toyota</th>\n",
       "      <td>Showing 15,228 results\\n</td>\n",
       "      <td>15228.0</td>\n",
       "    </tr>\n",
       "    <tr>\n",
       "      <th>Nissan</th>\n",
       "      <td>Showing 7,320 results\\n</td>\n",
       "      <td>7320.0</td>\n",
       "    </tr>\n",
       "    <tr>\n",
       "      <th>Mazda</th>\n",
       "      <td>Showing 6,755 results\\n</td>\n",
       "      <td>6755.0</td>\n",
       "    </tr>\n",
       "    <tr>\n",
       "      <th>Ford</th>\n",
       "      <td>Showing 4,603 results\\n</td>\n",
       "      <td>4603.0</td>\n",
       "    </tr>\n",
       "    <tr>\n",
       "      <th>Mitsubishi</th>\n",
       "      <td>Showing 4,244 results\\n</td>\n",
       "      <td>4244.0</td>\n",
       "    </tr>\n",
       "  </tbody>\n",
       "</table>\n",
       "</div>"
      ],
      "text/plain": [
       "                              Results    Count\n",
       "Brand                                         \n",
       "Toyota       Showing 15,228 results\\n  15228.0\n",
       "Nissan        Showing 7,320 results\\n   7320.0\n",
       "Mazda         Showing 6,755 results\\n   6755.0\n",
       "Ford          Showing 4,603 results\\n   4603.0\n",
       "Mitsubishi    Showing 4,244 results\\n   4244.0"
      ]
     },
     "execution_count": 18,
     "metadata": {},
     "output_type": "execute_result"
    }
   ],
   "source": [
    "df.sort_values(by=['Count'], ascending=False).head()"
   ]
  },
  {
   "cell_type": "markdown",
   "id": "3245f566-b9aa-4a2d-b143-0fa31d5185c7",
   "metadata": {},
   "source": [
    "### Count total number of listings, and calculate percentage of total"
   ]
  },
  {
   "cell_type": "code",
   "execution_count": 19,
   "id": "334a52cc-763c-4e45-bca6-29810440bc0b",
   "metadata": {},
   "outputs": [
    {
     "data": {
      "text/plain": [
       "78549.0"
      ]
     },
     "execution_count": 19,
     "metadata": {},
     "output_type": "execute_result"
    }
   ],
   "source": [
    "df['Count'].sum()"
   ]
  },
  {
   "cell_type": "code",
   "execution_count": 20,
   "id": "0493ef25-5a0a-4273-8004-d714ddf3fcc7",
   "metadata": {},
   "outputs": [],
   "source": [
    "df['Percentage'] = df['Count'] / 78549 * 100"
   ]
  },
  {
   "cell_type": "code",
   "execution_count": 22,
   "id": "4959d099-b354-4795-9a55-4539a13680c9",
   "metadata": {},
   "outputs": [
    {
     "data": {
      "text/html": [
       "<div>\n",
       "<style scoped>\n",
       "    .dataframe tbody tr th:only-of-type {\n",
       "        vertical-align: middle;\n",
       "    }\n",
       "\n",
       "    .dataframe tbody tr th {\n",
       "        vertical-align: top;\n",
       "    }\n",
       "\n",
       "    .dataframe thead th {\n",
       "        text-align: right;\n",
       "    }\n",
       "</style>\n",
       "<table border=\"1\" class=\"dataframe\">\n",
       "  <thead>\n",
       "    <tr style=\"text-align: right;\">\n",
       "      <th></th>\n",
       "      <th>Results</th>\n",
       "      <th>Count</th>\n",
       "      <th>Percentage</th>\n",
       "    </tr>\n",
       "    <tr>\n",
       "      <th>Brand</th>\n",
       "      <th></th>\n",
       "      <th></th>\n",
       "      <th></th>\n",
       "    </tr>\n",
       "  </thead>\n",
       "  <tbody>\n",
       "    <tr>\n",
       "      <th>Toyota</th>\n",
       "      <td>Showing 15,228 results\\n</td>\n",
       "      <td>15228.0</td>\n",
       "      <td>19.386625</td>\n",
       "    </tr>\n",
       "    <tr>\n",
       "      <th>Nissan</th>\n",
       "      <td>Showing 7,320 results\\n</td>\n",
       "      <td>7320.0</td>\n",
       "      <td>9.319024</td>\n",
       "    </tr>\n",
       "    <tr>\n",
       "      <th>Mazda</th>\n",
       "      <td>Showing 6,755 results\\n</td>\n",
       "      <td>6755.0</td>\n",
       "      <td>8.599728</td>\n",
       "    </tr>\n",
       "    <tr>\n",
       "      <th>Ford</th>\n",
       "      <td>Showing 4,603 results\\n</td>\n",
       "      <td>4603.0</td>\n",
       "      <td>5.860036</td>\n",
       "    </tr>\n",
       "    <tr>\n",
       "      <th>Mitsubishi</th>\n",
       "      <td>Showing 4,244 results\\n</td>\n",
       "      <td>4244.0</td>\n",
       "      <td>5.402997</td>\n",
       "    </tr>\n",
       "  </tbody>\n",
       "</table>\n",
       "</div>"
      ],
      "text/plain": [
       "                              Results    Count  Percentage\n",
       "Brand                                                     \n",
       "Toyota       Showing 15,228 results\\n  15228.0   19.386625\n",
       "Nissan        Showing 7,320 results\\n   7320.0    9.319024\n",
       "Mazda         Showing 6,755 results\\n   6755.0    8.599728\n",
       "Ford          Showing 4,603 results\\n   4603.0    5.860036\n",
       "Mitsubishi    Showing 4,244 results\\n   4244.0    5.402997"
      ]
     },
     "execution_count": 22,
     "metadata": {},
     "output_type": "execute_result"
    }
   ],
   "source": [
    "df.sort_values(by=['Count'], ascending=False).head()"
   ]
  },
  {
   "cell_type": "markdown",
   "id": "8ced2ff4-6d1d-4259-9ed9-24d522d4f316",
   "metadata": {},
   "source": [
    "# Conclusion:\n",
    "\n",
    "To produce statistcially signidficant results for this project, we need lots of homogenous data points (i.e. make/brand combinations) that repeat across the country.\n",
    "\n",
    "Whilst it is possible for a manufacturer to produce a very high volumne of a small number of models, as the top 5 manufacturers make up nearly 50% of listings (48.5%), we can safely exclude the remaining brands entirely from future analysis. \n",
    "\n",
    "The most sold models would be expected to be included in this set, and should be representative of any national trends."
   ]
  },
  {
   "cell_type": "code",
   "execution_count": null,
   "id": "de9d31e8-2561-4978-a97c-ba778317f67b",
   "metadata": {},
   "outputs": [],
   "source": []
  }
 ],
 "metadata": {
  "kernelspec": {
   "display_name": "Python 3 (ipykernel)",
   "language": "python",
   "name": "python3"
  },
  "language_info": {
   "codemirror_mode": {
    "name": "ipython",
    "version": 3
   },
   "file_extension": ".py",
   "mimetype": "text/x-python",
   "name": "python",
   "nbconvert_exporter": "python",
   "pygments_lexer": "ipython3",
   "version": "3.9.12"
  }
 },
 "nbformat": 4,
 "nbformat_minor": 5
}
