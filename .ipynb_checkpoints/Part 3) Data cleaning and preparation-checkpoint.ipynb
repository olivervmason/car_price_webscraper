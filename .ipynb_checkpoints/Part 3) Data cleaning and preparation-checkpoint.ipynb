{
 "cells": [
  {
   "cell_type": "markdown",
   "metadata": {},
   "source": [
    "# Part 3 - Cleaning the data ready for analysis "
   ]
  },
  {
   "cell_type": "markdown",
   "metadata": {},
   "source": [
    "### First task: Consolidate the data collected in part 2) and cleaning it.\n",
    "\n",
    "- Data was collected in 5 separate runs for the top 5 manufacturers. The resulting csv files are all in the same format and will need to follow the same cleaning/formatting process, so they need to be consolidated in to a single dataframe. Then:\n",
    "\n",
    "\n",
    "- The **title** field needs to be parsed in to name/manufacturer, and year fields\n",
    "- The **mileage** and **asking price** need to be converted from strings in to numbers\n",
    "- Engine details need to be split to 3 fields: **capacity**, **diesel/petrol** binary, and **manual/automatic/unspecified gearbox**\n",
    "- **Vendor type** needs to be a binary dealer/private vendor\n",
    "- In order to compare make/model between locations, they need to be grouped by important characteristics, eg mileage, age, engine size. These are all subtly different and input by users manually, so need to be grouped in to 'bins' for each category (e.g. \"less than 100km\" instead of \"8km\").\n",
    "\n"
   ]
  },
  {
   "cell_type": "code",
   "execution_count": 1,
   "metadata": {},
   "outputs": [],
   "source": [
    "# Import necessary packages\n",
    "import pandas as pd\n",
    "import numpy as np"
   ]
  },
  {
   "cell_type": "markdown",
   "metadata": {},
   "source": [
    "#### Import, consolidate, and check data:"
   ]
  },
  {
   "cell_type": "code",
   "execution_count": 2,
   "metadata": {},
   "outputs": [],
   "source": [
    "# NB sep (separator) explicitly set to '\\t' to avoid error of pandas 'seeing' more columns than there are.\n",
    "ford = pd.read_csv('csv_files/ford.tsv', sep='\\t')\n",
    "mazda = pd.read_csv('csv_files/mazda.tsv', sep='\\t')\n",
    "mitsubishi = pd.read_csv('csv_files/mitsubishi.tsv', sep='\\t')\n",
    "nissan = pd.read_csv('csv_files/nissan.tsv', sep='\\t')\n",
    "toyota = pd.read_csv('csv_files/toyota.tsv', sep='\\t')"
   ]
  },
  {
   "cell_type": "code",
   "execution_count": 3,
   "metadata": {},
   "outputs": [],
   "source": [
    "# Consolidate individual dataframes to individual dataframe\n",
    "all_df = pd.concat([ford, mazda, mitsubishi, nissan, toyota])  "
   ]
  },
  {
   "cell_type": "code",
   "execution_count": 4,
   "metadata": {},
   "outputs": [
    {
     "data": {
      "text/html": [
       "<div>\n",
       "<style scoped>\n",
       "    .dataframe tbody tr th:only-of-type {\n",
       "        vertical-align: middle;\n",
       "    }\n",
       "\n",
       "    .dataframe tbody tr th {\n",
       "        vertical-align: top;\n",
       "    }\n",
       "\n",
       "    .dataframe thead th {\n",
       "        text-align: right;\n",
       "    }\n",
       "</style>\n",
       "<table border=\"1\" class=\"dataframe\">\n",
       "  <thead>\n",
       "    <tr style=\"text-align: right;\">\n",
       "      <th></th>\n",
       "      <th>listing_id</th>\n",
       "      <th>location</th>\n",
       "      <th>title</th>\n",
       "      <th>sub_title</th>\n",
       "      <th>mileage</th>\n",
       "      <th>engine_details</th>\n",
       "      <th>asking_price</th>\n",
       "      <th>vendor</th>\n",
       "      <th>sale_type</th>\n",
       "    </tr>\n",
       "  </thead>\n",
       "  <tbody>\n",
       "    <tr>\n",
       "      <th>0</th>\n",
       "      <td>1668261987118-3860157887-location</td>\n",
       "      <td>Napier, Hawke's Bay</td>\n",
       "      <td>2019 Ford Ranger</td>\n",
       "      <td>Ask us about Finance options on all vehicles!</td>\n",
       "      <td>85,796km</td>\n",
       "      <td>3200cc, Diesel, Tiptronic</td>\n",
       "      <td>$53,990</td>\n",
       "      <td>NaN</td>\n",
       "      <td>Asking price  $53,990</td>\n",
       "    </tr>\n",
       "    <tr>\n",
       "      <th>1</th>\n",
       "      <td>1668261987204-3860151293-location</td>\n",
       "      <td>Whakatane, Bay of Plenty</td>\n",
       "      <td>1980 Ford Cortina</td>\n",
       "      <td>1980 Cortina Ghia</td>\n",
       "      <td>164,600km</td>\n",
       "      <td>2000cc, Petrol, Automatic</td>\n",
       "      <td>$11,000</td>\n",
       "      <td>Private seller</td>\n",
       "      <td>sale_type missing</td>\n",
       "    </tr>\n",
       "    <tr>\n",
       "      <th>2</th>\n",
       "      <td>1668261987215-3860060631-location</td>\n",
       "      <td>Kerikeri, Northland</td>\n",
       "      <td>2006 Ford Courier</td>\n",
       "      <td>sub_title missing</td>\n",
       "      <td>321,862km</td>\n",
       "      <td>2606cc, Petrol, Manual</td>\n",
       "      <td>$6,900</td>\n",
       "      <td>Private seller</td>\n",
       "      <td>sale_type missing</td>\n",
       "    </tr>\n",
       "    <tr>\n",
       "      <th>3</th>\n",
       "      <td>1668261987310-3860015900-location</td>\n",
       "      <td>Porirua, Wellington</td>\n",
       "      <td>1975 Ford Falcon</td>\n",
       "      <td>sub_title missing</td>\n",
       "      <td>96km</td>\n",
       "      <td>4100cc, Petrol, Manual</td>\n",
       "      <td>$45,000</td>\n",
       "      <td>Private seller</td>\n",
       "      <td>Asking price  $45,000</td>\n",
       "    </tr>\n",
       "    <tr>\n",
       "      <th>4</th>\n",
       "      <td>1668261987400-3859647210-location</td>\n",
       "      <td>Cromwell, Otago</td>\n",
       "      <td>2011 Ford Falcon</td>\n",
       "      <td>Fabulous to drive</td>\n",
       "      <td>215,856km</td>\n",
       "      <td>3984cc, Petrol, Automatic</td>\n",
       "      <td>$9,800</td>\n",
       "      <td>Private seller</td>\n",
       "      <td>sale_type missing</td>\n",
       "    </tr>\n",
       "  </tbody>\n",
       "</table>\n",
       "</div>"
      ],
      "text/plain": [
       "                          listing_id                  location  \\\n",
       "0  1668261987118-3860157887-location       Napier, Hawke's Bay   \n",
       "1  1668261987204-3860151293-location  Whakatane, Bay of Plenty   \n",
       "2  1668261987215-3860060631-location       Kerikeri, Northland   \n",
       "3  1668261987310-3860015900-location       Porirua, Wellington   \n",
       "4  1668261987400-3859647210-location           Cromwell, Otago   \n",
       "\n",
       "               title                                        sub_title  \\\n",
       "0   2019 Ford Ranger   Ask us about Finance options on all vehicles!    \n",
       "1  1980 Ford Cortina                               1980 Cortina Ghia    \n",
       "2  2006 Ford Courier                                sub_title missing   \n",
       "3   1975 Ford Falcon                                sub_title missing   \n",
       "4   2011 Ford Falcon                               Fabulous to drive    \n",
       "\n",
       "     mileage             engine_details asking_price            vendor  \\\n",
       "0   85,796km  3200cc, Diesel, Tiptronic      $53,990               NaN   \n",
       "1  164,600km  2000cc, Petrol, Automatic      $11,000   Private seller    \n",
       "2  321,862km     2606cc, Petrol, Manual       $6,900   Private seller    \n",
       "3       96km     4100cc, Petrol, Manual      $45,000   Private seller    \n",
       "4  215,856km  3984cc, Petrol, Automatic       $9,800   Private seller    \n",
       "\n",
       "               sale_type  \n",
       "0  Asking price  $53,990  \n",
       "1      sale_type missing  \n",
       "2      sale_type missing  \n",
       "3  Asking price  $45,000  \n",
       "4      sale_type missing  "
      ]
     },
     "execution_count": 4,
     "metadata": {},
     "output_type": "execute_result"
    }
   ],
   "source": [
    "# Show all columns and check format of resulting dataframe:\n",
    "pd.set_option('display.max_columns', None)\n",
    "all_df.head()"
   ]
  },
  {
   "cell_type": "code",
   "execution_count": 5,
   "metadata": {},
   "outputs": [
    {
     "name": "stdout",
     "output_type": "stream",
     "text": [
      "Ford = 4026 lines\n",
      "Mazda = 6467 lines\n",
      "Mitsubishi = 4004 lines\n",
      "Nissan = 6930 lines\n",
      "Toyota = 14674 lines\n",
      "Consolidated df confirmed as 36101 lines\n"
     ]
    }
   ],
   "source": [
    "# Verify all lines have been included in the consolidated dataframe:\n",
    "print(f\"Ford = {ford.shape[0]} lines\")\n",
    "print(f\"Mazda = {mazda.shape[0]} lines\")\n",
    "print(f\"Mitsubishi = {mitsubishi.shape[0]} lines\")\n",
    "print(f\"Nissan = {nissan.shape[0]} lines\")\n",
    "print(f\"Toyota = {toyota.shape[0]} lines\")\n",
    "print(f\"Consolidated df confirmed as {all_df.shape[0]} lines\") "
   ]
  },
  {
   "cell_type": "markdown",
   "metadata": {},
   "source": [
    "#### Format data - Year and age:"
   ]
  },
  {
   "cell_type": "code",
   "execution_count": 6,
   "metadata": {},
   "outputs": [],
   "source": [
    "# Separate year from title field:\n",
    "all_df['Year'] = all_df['title'].str[:4]"
   ]
  },
  {
   "cell_type": "code",
   "execution_count": 7,
   "metadata": {},
   "outputs": [],
   "source": [
    "# Create column calculating age:\n",
    "all_df['Age'] = all_df['Year'] \n",
    "all_df['Age'] = 2023 - all_df['Age'].astype(int)"
   ]
  },
  {
   "cell_type": "code",
   "execution_count": 8,
   "metadata": {},
   "outputs": [
    {
     "data": {
      "text/plain": [
       "count    36101.000000\n",
       "mean        10.817567\n",
       "std          8.299382\n",
       "min          0.000000\n",
       "25%          6.000000\n",
       "50%          9.000000\n",
       "75%         14.000000\n",
       "max        135.000000\n",
       "Name: Age, dtype: float64"
      ]
     },
     "execution_count": 8,
     "metadata": {},
     "output_type": "execute_result"
    }
   ],
   "source": [
    "# Examine statistical analysis of ages to set appropriate bins:\n",
    "all_df['Age'].describe()"
   ]
  },
  {
   "cell_type": "code",
   "execution_count": 9,
   "metadata": {},
   "outputs": [
    {
     "data": {
      "text/html": [
       "<div>\n",
       "<style scoped>\n",
       "    .dataframe tbody tr th:only-of-type {\n",
       "        vertical-align: middle;\n",
       "    }\n",
       "\n",
       "    .dataframe tbody tr th {\n",
       "        vertical-align: top;\n",
       "    }\n",
       "\n",
       "    .dataframe thead th {\n",
       "        text-align: right;\n",
       "    }\n",
       "</style>\n",
       "<table border=\"1\" class=\"dataframe\">\n",
       "  <thead>\n",
       "    <tr style=\"text-align: right;\">\n",
       "      <th></th>\n",
       "      <th>listing_id</th>\n",
       "      <th>location</th>\n",
       "      <th>title</th>\n",
       "      <th>sub_title</th>\n",
       "      <th>mileage</th>\n",
       "      <th>engine_details</th>\n",
       "      <th>asking_price</th>\n",
       "      <th>vendor</th>\n",
       "      <th>sale_type</th>\n",
       "      <th>Year</th>\n",
       "      <th>Age</th>\n",
       "    </tr>\n",
       "  </thead>\n",
       "  <tbody>\n",
       "    <tr>\n",
       "      <th>11802</th>\n",
       "      <td>1668271635063-3816940931-location</td>\n",
       "      <td>Whangarei, Northland</td>\n",
       "      <td>1888 Toyota Hilux</td>\n",
       "      <td>sub_title missing</td>\n",
       "      <td>mileage missing</td>\n",
       "      <td>3800cc, Automatic</td>\n",
       "      <td>$5,500</td>\n",
       "      <td>Private seller</td>\n",
       "      <td>Or near offer  $5,500</td>\n",
       "      <td>1888</td>\n",
       "      <td>135</td>\n",
       "    </tr>\n",
       "  </tbody>\n",
       "</table>\n",
       "</div>"
      ],
      "text/plain": [
       "                              listing_id              location  \\\n",
       "11802  1668271635063-3816940931-location  Whangarei, Northland   \n",
       "\n",
       "                   title          sub_title          mileage  \\\n",
       "11802  1888 Toyota Hilux  sub_title missing  mileage missing   \n",
       "\n",
       "          engine_details asking_price            vendor  \\\n",
       "11802  3800cc, Automatic       $5,500   Private seller    \n",
       "\n",
       "                   sale_type  Year  Age  \n",
       "11802  Or near offer  $5,500  1888  135  "
      ]
     },
     "execution_count": 9,
     "metadata": {},
     "output_type": "execute_result"
    }
   ],
   "source": [
    "# Note anomaly of 135 year old car; investigate:\n",
    "filt = all_df['Age'] == 135\n",
    "all_df[filt]"
   ]
  },
  {
   "cell_type": "code",
   "execution_count": 10,
   "metadata": {},
   "outputs": [
    {
     "data": {
      "text/html": [
       "<div>\n",
       "<style scoped>\n",
       "    .dataframe tbody tr th:only-of-type {\n",
       "        vertical-align: middle;\n",
       "    }\n",
       "\n",
       "    .dataframe tbody tr th {\n",
       "        vertical-align: top;\n",
       "    }\n",
       "\n",
       "    .dataframe thead th {\n",
       "        text-align: right;\n",
       "    }\n",
       "</style>\n",
       "<table border=\"1\" class=\"dataframe\">\n",
       "  <thead>\n",
       "    <tr style=\"text-align: right;\">\n",
       "      <th></th>\n",
       "      <th>listing_id</th>\n",
       "      <th>location</th>\n",
       "      <th>title</th>\n",
       "      <th>sub_title</th>\n",
       "      <th>mileage</th>\n",
       "      <th>engine_details</th>\n",
       "      <th>asking_price</th>\n",
       "      <th>vendor</th>\n",
       "      <th>sale_type</th>\n",
       "      <th>Year</th>\n",
       "      <th>Age</th>\n",
       "    </tr>\n",
       "  </thead>\n",
       "  <tbody>\n",
       "    <tr>\n",
       "      <th>11802</th>\n",
       "      <td>1668271635063-3816940931-location</td>\n",
       "      <td>Whangarei, Northland</td>\n",
       "      <td>1888 Toyota Hilux</td>\n",
       "      <td>sub_title missing</td>\n",
       "      <td>mileage missing</td>\n",
       "      <td>3800cc, Automatic</td>\n",
       "      <td>$5,500</td>\n",
       "      <td>Private seller</td>\n",
       "      <td>Or near offer  $5,500</td>\n",
       "      <td>1988</td>\n",
       "      <td>35</td>\n",
       "    </tr>\n",
       "  </tbody>\n",
       "</table>\n",
       "</div>"
      ],
      "text/plain": [
       "                              listing_id              location  \\\n",
       "11802  1668271635063-3816940931-location  Whangarei, Northland   \n",
       "\n",
       "                   title          sub_title          mileage  \\\n",
       "11802  1888 Toyota Hilux  sub_title missing  mileage missing   \n",
       "\n",
       "          engine_details asking_price            vendor  \\\n",
       "11802  3800cc, Automatic       $5,500   Private seller    \n",
       "\n",
       "                   sale_type  Year  Age  \n",
       "11802  Or near offer  $5,500  1988   35  "
      ]
     },
     "execution_count": 10,
     "metadata": {},
     "output_type": "execute_result"
    }
   ],
   "source": [
    "# Hilux obviously a typo; change year from 1888 to 1988:\n",
    "all_df.loc[filt, \"Year\"] = \"1988\"\n",
    "\n",
    "# Recalculate ages:\n",
    "all_df['Age'] = all_df['Year'] \n",
    "all_df['Age'] = 2023 - all_df['Age'].astype(int)\n",
    "\n",
    "# Check result:\n",
    "all_df.loc[filt]"
   ]
  },
  {
   "cell_type": "code",
   "execution_count": 11,
   "metadata": {},
   "outputs": [
    {
     "data": {
      "text/plain": [
       "count    36101.000000\n",
       "mean        10.814797\n",
       "std          8.274584\n",
       "min          0.000000\n",
       "25%          6.000000\n",
       "50%          9.000000\n",
       "75%         14.000000\n",
       "max        100.000000\n",
       "Name: Age, dtype: float64"
      ]
     },
     "execution_count": 11,
     "metadata": {},
     "output_type": "execute_result"
    }
   ],
   "source": [
    "# Oldest car of 100 years old is plausible for a classic; no further investigation at this stage.\n",
    "all_df['Age'].describe()"
   ]
  },
  {
   "cell_type": "code",
   "execution_count": 12,
   "metadata": {},
   "outputs": [],
   "source": [
    "# Sort mileage in to bins to allow models of similar condition to be grouped - max age at end of 2023:\n",
    "\n",
    "bins = [0,\n",
    "        1, \n",
    "        2, \n",
    "        3, \n",
    "        4,\n",
    "        5,\n",
    "        6,\n",
    "        7,\n",
    "        8,\n",
    "        9,\n",
    "        10,\n",
    "        15,\n",
    "        20\n",
    "        ]\n",
    "\n",
    "names = ['New',\n",
    "        'New',\n",
    "        '2 to 3 years old', \n",
    "        '3 to 4 years old', \n",
    "        '4 to 5 years old', \n",
    "        '5 to 6 years old',         \n",
    "        '6 to 7 years old', \n",
    "        '7 to 8 years old', \n",
    "        '8 to 9 years old',\n",
    "        '9 to 10 years old',\n",
    "        '10 to 15 years old',\n",
    "        '15 to 20 years old',\n",
    "        # '1 to 20 years old',\n",
    "        'Over 20 years'\n",
    "        ]\n",
    "\n",
    "d = dict(enumerate(names, 1))\n",
    "all_df['age_bin'] = np.vectorize(d.get)(np.digitize(all_df['Age'], bins))"
   ]
  },
  {
   "cell_type": "markdown",
   "metadata": {},
   "source": [
    "#### Format data - Make and model:"
   ]
  },
  {
   "cell_type": "code",
   "execution_count": 13,
   "metadata": {},
   "outputs": [],
   "source": [
    "# Split string on first space after year\n",
    "all_df['Make & Model'] = all_df['title'].str[5:]\n",
    "\n",
    "# Drop old columns\n",
    "all_df.drop(columns=['title'], inplace=True)"
   ]
  },
  {
   "cell_type": "markdown",
   "metadata": {},
   "source": [
    "#### Format data - Asking price:"
   ]
  },
  {
   "cell_type": "code",
   "execution_count": 14,
   "metadata": {},
   "outputs": [
    {
     "name": "stderr",
     "output_type": "stream",
     "text": [
      "/tmp/ipykernel_32138/1671997852.py:2: FutureWarning: The default value of regex will change from True to False in a future version. In addition, single character regular expressions will *not* be treated as literal strings when regex=True.\n",
      "  all_df['asking_price'] = all_df['asking_price'].str.replace(\"$\", '')\n",
      "/tmp/ipykernel_32138/1671997852.py:3: FutureWarning: The default value of regex will change from True to False in a future version. In addition, single character regular expressions will *not* be treated as literal strings when regex=True.\n",
      "  all_df['asking_price'] = all_df['asking_price'].str.replace(\".\", '')\n"
     ]
    }
   ],
   "source": [
    "# Strip out non-numerical characters from price string; 'FutureWarning' noted:\n",
    "all_df['asking_price'] = all_df['asking_price'].str.replace(\"$\", '')\n",
    "all_df['asking_price'] = all_df['asking_price'].str.replace(\".\", '')\n",
    "all_df['asking_price'] = all_df['asking_price'].str.replace(\",\", '')"
   ]
  },
  {
   "cell_type": "code",
   "execution_count": 15,
   "metadata": {},
   "outputs": [
    {
     "data": {
      "text/plain": [
       "0        53990.0\n",
       "1        11000.0\n",
       "2         6900.0\n",
       "3        45000.0\n",
       "4         9800.0\n",
       "          ...   \n",
       "14669     3500.0\n",
       "14670     4250.0\n",
       "14671     6500.0\n",
       "14672    11650.0\n",
       "14673    15450.0\n",
       "Name: asking_price, Length: 36101, dtype: float64"
      ]
     },
     "execution_count": 15,
     "metadata": {},
     "output_type": "execute_result"
    }
   ],
   "source": [
    "# Convert price field to float (some prices with cents noted...)\n",
    "all_df['asking_price'].astype(float)"
   ]
  },
  {
   "cell_type": "markdown",
   "metadata": {},
   "source": [
    "#### Format data - Mileage:"
   ]
  },
  {
   "cell_type": "code",
   "execution_count": 16,
   "metadata": {},
   "outputs": [],
   "source": [
    "all_df['mileage_asnumber'] = all_df['mileage'].str.replace(\"km\", \"\")\n",
    "all_df['mileage_asnumber'] = all_df['mileage_asnumber'].str.replace(\"km\", \"\")\n",
    "all_df['mileage_asnumber'] = all_df['mileage_asnumber'].str.replace(\",\", \"\")\n",
    "all_df['mileage_asnumber'] = all_df['mileage_asnumber'].str.replace(\"mileage missing\", \"0\")"
   ]
  },
  {
   "cell_type": "code",
   "execution_count": 17,
   "metadata": {},
   "outputs": [],
   "source": [
    "all_df['mileage_asnumber'] = all_df['mileage_asnumber'].astype(float)"
   ]
  },
  {
   "cell_type": "code",
   "execution_count": 18,
   "metadata": {},
   "outputs": [],
   "source": [
    "# Sort mileage in to bins to allow models of similar condition to be grouped:\n",
    "\n",
    "bins = [1, \n",
    "        100, \n",
    "        1000, \n",
    "        20000,\n",
    "        50000,\n",
    "        100000,\n",
    "        250000,\n",
    "        500000,\n",
    "        ]\n",
    "\n",
    "names = ['Less than 100km', \n",
    "        '100km to 1,000km', \n",
    "        '1,000km to 20,000km', \n",
    "        '20,000km to 50,000km', \n",
    "        '50,000km to 100,000km',\n",
    "        '100,000km to 250,000km',\n",
    "        '250,000km to 500,000km',\n",
    "        'Over 500,000km'\n",
    "        ]\n",
    "\n",
    "d = dict(enumerate(names, 1))\n",
    "all_df['mileage_bin'] = np.vectorize(d.get)(np.digitize(all_df['mileage_asnumber'], bins))"
   ]
  },
  {
   "cell_type": "code",
   "execution_count": 19,
   "metadata": {},
   "outputs": [],
   "source": [
    "# Drop mileage_asnumber column:\n",
    "all_df.drop(columns=['mileage_asnumber'], inplace=True)"
   ]
  },
  {
   "cell_type": "markdown",
   "metadata": {},
   "source": [
    "#### Format data - Engine:"
   ]
  },
  {
   "cell_type": "code",
   "execution_count": 20,
   "metadata": {},
   "outputs": [],
   "source": [
    "# Transmission - create column:\n",
    "all_df['transmission'] = \"Not available\"\n",
    "\n",
    "# Assign values to Automatic listings:\n",
    "filt1 = all_df['engine_details'].str.contains(\"Automatic\")\n",
    "filt2 = all_df['engine_details'].str.contains(\"Tiptronic\")\n",
    "all_df.loc[filt1 | filt2, 'transmission'] = \"Automatic\"\n",
    "\n",
    "# Assign values to Manual listings:\n",
    "filt = all_df['engine_details'].str.contains(\"Manual\")\n",
    "all_df.loc[filt, 'transmission'] = \"Manual\""
   ]
  },
  {
   "cell_type": "code",
   "execution_count": 21,
   "metadata": {},
   "outputs": [],
   "source": [
    "# Fuel type - create column:\n",
    "all_df['fuel'] = \"Not available\"\n",
    "\n",
    "# Assign values to Petrol listings:\n",
    "filt = all_df['engine_details'].str.contains(\"Petrol\")\n",
    "all_df.loc[filt, 'fuel'] = \"Petrol\"\n",
    "\n",
    "# Assign values to Diesel listings:\n",
    "filt = all_df['engine_details'].str.contains(\"Diesel\")\n",
    "all_df.loc[filt, 'fuel'] = \"Diesel\"\n",
    "\n",
    "# Assign values to Electric listings:\n",
    "filt = all_df['engine_details'].str.contains(\"Electric\")\n",
    "all_df.loc[filt, 'fuel'] = \"Electric\"\n",
    "\n",
    "# Assign values to Hybrid listings:\n",
    "filt1 = all_df['engine_details'].str.contains(\"Hybrid\")\n",
    "filt2 = all_df['engine_details'].str.contains(\"hybrid\")\n",
    "all_df.loc[filt1 | filt2, 'fuel'] = \"Hybrid\""
   ]
  },
  {
   "cell_type": "code",
   "execution_count": 22,
   "metadata": {},
   "outputs": [],
   "source": [
    "# Engine size - create column:\n",
    "all_df['engine_size'] = all_df['engine_details'].str[:6]\n",
    "\n",
    "# Filter values that do NOT contain \"cc\":\n",
    "filt = all_df['engine_details'].str.contains(\"cc\")\n",
    "all_df.loc[~filt, 'engine_size'] = \"Capacity n/a\""
   ]
  },
  {
   "cell_type": "code",
   "execution_count": 23,
   "metadata": {},
   "outputs": [],
   "source": [
    "# Remove \"cc\" and other letters from engine size field - identified using all_df['engine_size'].unique():\n",
    "all_df['engine_size'] = all_df['engine_size'].str.replace(\"Capacity n/a\", \"\")\n",
    "all_df['engine_size'] = all_df['engine_size'].str.replace(\"cc\", \"\")\n",
    "all_df['engine_size'] = all_df['engine_size'].str.replace(\"c\", \"\")\n",
    "all_df['engine_size'] = all_df['engine_size'].str.replace(\"C\", \"\")\n",
    "all_df['engine_size'] = all_df['engine_size'].str.replace(\"D\", \"\")\n",
    "all_df['engine_size'] = all_df['engine_size'].str.replace(\"P\", \"\")\n",
    "all_df['engine_size'] = all_df['engine_size'].str.replace(\" \", \"\")\n",
    "all_df['engine_size'] = all_df['engine_size'].str.replace(\",\", \"\")"
   ]
  },
  {
   "cell_type": "code",
   "execution_count": 24,
   "metadata": {},
   "outputs": [],
   "source": [
    "# Fill blanks with zeros\n",
    "filt = all_df['engine_size'] == \"\"\n",
    "all_df.loc[filt, 'engine_size'] = 0"
   ]
  },
  {
   "cell_type": "code",
   "execution_count": 25,
   "metadata": {},
   "outputs": [],
   "source": [
    "# Convert engine size to number and round to nearest 100cc:\n",
    "all_df['engine_size'] = all_df['engine_size'].astype(int)\n",
    "all_df['engine_size'] = all_df['engine_size'].round(decimals=-2)"
   ]
  },
  {
   "cell_type": "code",
   "execution_count": 26,
   "metadata": {},
   "outputs": [],
   "source": [
    "# Drop engine_details column\n",
    "all_df.drop(columns=['engine_details'], inplace=True)"
   ]
  },
  {
   "cell_type": "markdown",
   "metadata": {},
   "source": [
    "#### Define seller type"
   ]
  },
  {
   "cell_type": "code",
   "execution_count": 27,
   "metadata": {},
   "outputs": [],
   "source": [
    "# Create new column, with Dealer set as default (all that are not explicitly private sellers):\n",
    "all_df['seller_type'] = \"Dealer\"\n",
    "\n",
    "# Set filter:\n",
    "filt = all_df['vendor'] == \" Private seller \"\n",
    "\n",
    "# Apply filter and set to private seller:\n",
    "all_df.loc[filt, 'seller_type'] = \"Private seller\"\n",
    "\n",
    "# Drop vendor column:\n",
    "all_df.drop(columns=['vendor'], inplace=True)"
   ]
  },
  {
   "cell_type": "markdown",
   "metadata": {},
   "source": [
    "#### Fix locations"
   ]
  },
  {
   "cell_type": "code",
   "execution_count": 28,
   "metadata": {},
   "outputs": [
    {
     "data": {
      "text/html": [
       "<div>\n",
       "<style scoped>\n",
       "    .dataframe tbody tr th:only-of-type {\n",
       "        vertical-align: middle;\n",
       "    }\n",
       "\n",
       "    .dataframe tbody tr th {\n",
       "        vertical-align: top;\n",
       "    }\n",
       "\n",
       "    .dataframe thead th {\n",
       "        text-align: right;\n",
       "    }\n",
       "</style>\n",
       "<table border=\"1\" class=\"dataframe\">\n",
       "  <thead>\n",
       "    <tr style=\"text-align: right;\">\n",
       "      <th></th>\n",
       "      <th>location</th>\n",
       "      <th>City</th>\n",
       "      <th>Island</th>\n",
       "    </tr>\n",
       "  </thead>\n",
       "  <tbody>\n",
       "    <tr>\n",
       "      <th>0</th>\n",
       "      <td>, Auckland</td>\n",
       "      <td>Auckland</td>\n",
       "      <td>North Island</td>\n",
       "    </tr>\n",
       "    <tr>\n",
       "      <th>1</th>\n",
       "      <td>, Canterbury</td>\n",
       "      <td>Christchurch</td>\n",
       "      <td>South Island</td>\n",
       "    </tr>\n",
       "    <tr>\n",
       "      <th>2</th>\n",
       "      <td>, Hawke's Bay</td>\n",
       "      <td>Other North Island</td>\n",
       "      <td>North Island</td>\n",
       "    </tr>\n",
       "    <tr>\n",
       "      <th>3</th>\n",
       "      <td>, Nelson Bays</td>\n",
       "      <td>Other South Island</td>\n",
       "      <td>South Island</td>\n",
       "    </tr>\n",
       "    <tr>\n",
       "      <th>4</th>\n",
       "      <td>, Northland</td>\n",
       "      <td>Other North Island</td>\n",
       "      <td>North Island</td>\n",
       "    </tr>\n",
       "  </tbody>\n",
       "</table>\n",
       "</div>"
      ],
      "text/plain": [
       "        location                City        Island\n",
       "0     , Auckland            Auckland  North Island\n",
       "1   , Canterbury        Christchurch  South Island\n",
       "2  , Hawke's Bay  Other North Island  North Island\n",
       "3  , Nelson Bays  Other South Island  South Island\n",
       "4    , Northland  Other North Island  North Island"
      ]
     },
     "execution_count": 28,
     "metadata": {},
     "output_type": "execute_result"
    }
   ],
   "source": [
    "# Locations per the all_df dataframe were extracted and mapped to the desired output in the 'location.csv' file:\n",
    "locations = pd.read_csv('csv_files/location.csv')\n",
    "locations.head()"
   ]
  },
  {
   "cell_type": "code",
   "execution_count": 29,
   "metadata": {},
   "outputs": [],
   "source": [
    "# Merge location df with all_df:\n",
    "all_df = pd.merge(all_df, locations, on = \"location\", how = \"inner\")"
   ]
  },
  {
   "cell_type": "markdown",
   "metadata": {},
   "source": [
    "#### Create h_string field to group models with similar key characteristics - attempt to homogenize listings"
   ]
  },
  {
   "cell_type": "code",
   "execution_count": 30,
   "metadata": {},
   "outputs": [],
   "source": [
    "all_df['h_string'] = all_df['seller_type'].map(str) + \"; \" + all_df['age_bin'].map(str) + \"; \" + all_df['mileage_bin'].map(str) + \"; \" + all_df['engine_size'].map(str)+ \"; \" + all_df['fuel'].map(str) + \"; \" + all_df['transmission'].map(str)"
   ]
  },
  {
   "cell_type": "markdown",
   "metadata": {},
   "source": [
    "#### Format final dataframe:"
   ]
  },
  {
   "cell_type": "code",
   "execution_count": 31,
   "metadata": {},
   "outputs": [],
   "source": [
    "# Drop sale type - \"asking price\", \"estimated price\", and or \"near offer\" amount to the same thing\n",
    "all_df.drop(columns=['sale_type'], inplace=True)"
   ]
  },
  {
   "cell_type": "code",
   "execution_count": 32,
   "metadata": {},
   "outputs": [],
   "source": [
    "# Update column order:\n",
    "all_df = all_df[['listing_id', 'Make & Model', 'location', 'City', 'Island', 'Age', 'age_bin', 'mileage', 'mileage_bin', 'engine_size', 'fuel', 'transmission', 'asking_price', 'seller_type', 'h_string', 'sub_title']]"
   ]
  },
  {
   "cell_type": "code",
   "execution_count": 33,
   "metadata": {},
   "outputs": [
    {
     "data": {
      "text/html": [
       "<div>\n",
       "<style scoped>\n",
       "    .dataframe tbody tr th:only-of-type {\n",
       "        vertical-align: middle;\n",
       "    }\n",
       "\n",
       "    .dataframe tbody tr th {\n",
       "        vertical-align: top;\n",
       "    }\n",
       "\n",
       "    .dataframe thead th {\n",
       "        text-align: right;\n",
       "    }\n",
       "</style>\n",
       "<table border=\"1\" class=\"dataframe\">\n",
       "  <thead>\n",
       "    <tr style=\"text-align: right;\">\n",
       "      <th></th>\n",
       "      <th>listing_id</th>\n",
       "      <th>Make &amp; Model</th>\n",
       "      <th>location</th>\n",
       "      <th>City</th>\n",
       "      <th>Island</th>\n",
       "      <th>Age</th>\n",
       "      <th>age_bin</th>\n",
       "      <th>mileage</th>\n",
       "      <th>mileage_bin</th>\n",
       "      <th>engine_size</th>\n",
       "      <th>fuel</th>\n",
       "      <th>transmission</th>\n",
       "      <th>asking_price</th>\n",
       "      <th>seller_type</th>\n",
       "      <th>h_string</th>\n",
       "      <th>sub_title</th>\n",
       "    </tr>\n",
       "  </thead>\n",
       "  <tbody>\n",
       "    <tr>\n",
       "      <th>0</th>\n",
       "      <td>1668261987118-3860157887-location</td>\n",
       "      <td>Ford Ranger</td>\n",
       "      <td>Napier, Hawke's Bay</td>\n",
       "      <td>Other North Island</td>\n",
       "      <td>North Island</td>\n",
       "      <td>4</td>\n",
       "      <td>4 to 5 years old</td>\n",
       "      <td>85,796km</td>\n",
       "      <td>50,000km to 100,000km</td>\n",
       "      <td>3200</td>\n",
       "      <td>Diesel</td>\n",
       "      <td>Automatic</td>\n",
       "      <td>53990</td>\n",
       "      <td>Dealer</td>\n",
       "      <td>Dealer; 4 to 5 years old; 50,000km to 100,000k...</td>\n",
       "      <td>Ask us about Finance options on all vehicles!</td>\n",
       "    </tr>\n",
       "    <tr>\n",
       "      <th>1</th>\n",
       "      <td>1668261987726-3858370885-location</td>\n",
       "      <td>Ford Ranger</td>\n",
       "      <td>Napier, Hawke's Bay</td>\n",
       "      <td>Other North Island</td>\n",
       "      <td>North Island</td>\n",
       "      <td>3</td>\n",
       "      <td>3 to 4 years old</td>\n",
       "      <td>36,623km</td>\n",
       "      <td>20,000km to 50,000km</td>\n",
       "      <td>2000</td>\n",
       "      <td>Diesel</td>\n",
       "      <td>Automatic</td>\n",
       "      <td>69990</td>\n",
       "      <td>Dealer</td>\n",
       "      <td>Dealer; 3 to 4 years old; 20,000km to 50,000km...</td>\n",
       "      <td>TONNEAU COVER / TOW BAR / DECK LINER</td>\n",
       "    </tr>\n",
       "    <tr>\n",
       "      <th>2</th>\n",
       "      <td>1668261996464-3856779556-location</td>\n",
       "      <td>Ford Everest</td>\n",
       "      <td>Napier, Hawke's Bay</td>\n",
       "      <td>Other North Island</td>\n",
       "      <td>North Island</td>\n",
       "      <td>1</td>\n",
       "      <td>New</td>\n",
       "      <td>12,380km</td>\n",
       "      <td>1,000km to 20,000km</td>\n",
       "      <td>2000</td>\n",
       "      <td>Diesel</td>\n",
       "      <td>Automatic</td>\n",
       "      <td>74990</td>\n",
       "      <td>Dealer</td>\n",
       "      <td>Dealer; New; 1,000km to 20,000km; 2000; Diesel...</td>\n",
       "      <td>Ask us about Finance options on all vehicles!</td>\n",
       "    </tr>\n",
       "    <tr>\n",
       "      <th>3</th>\n",
       "      <td>1668262051669-3837242562-location</td>\n",
       "      <td>Ford Ecosport</td>\n",
       "      <td>Napier, Hawke's Bay</td>\n",
       "      <td>Other North Island</td>\n",
       "      <td>North Island</td>\n",
       "      <td>6</td>\n",
       "      <td>6 to 7 years old</td>\n",
       "      <td>33,650km</td>\n",
       "      <td>20,000km to 50,000km</td>\n",
       "      <td>1500</td>\n",
       "      <td>Petrol</td>\n",
       "      <td>Automatic</td>\n",
       "      <td>15990</td>\n",
       "      <td>Dealer</td>\n",
       "      <td>Dealer; 6 to 7 years old; 20,000km to 50,000km...</td>\n",
       "      <td>Franchise Backed-Delivery NZ Wide-Great Servi...</td>\n",
       "    </tr>\n",
       "    <tr>\n",
       "      <th>4</th>\n",
       "      <td>1668262068407-3820002936-location</td>\n",
       "      <td>Ford Courier</td>\n",
       "      <td>Napier, Hawke's Bay</td>\n",
       "      <td>Other North Island</td>\n",
       "      <td>North Island</td>\n",
       "      <td>23</td>\n",
       "      <td>Over 20 years</td>\n",
       "      <td>327,786km</td>\n",
       "      <td>250,000km to 500,000km</td>\n",
       "      <td>2500</td>\n",
       "      <td>Diesel</td>\n",
       "      <td>Manual</td>\n",
       "      <td>7250</td>\n",
       "      <td>Private seller</td>\n",
       "      <td>Private seller; Over 20 years; 250,000km to 50...</td>\n",
       "      <td>2000 Ford Courier xlx</td>\n",
       "    </tr>\n",
       "  </tbody>\n",
       "</table>\n",
       "</div>"
      ],
      "text/plain": [
       "                          listing_id   Make & Model             location  \\\n",
       "0  1668261987118-3860157887-location    Ford Ranger  Napier, Hawke's Bay   \n",
       "1  1668261987726-3858370885-location    Ford Ranger  Napier, Hawke's Bay   \n",
       "2  1668261996464-3856779556-location   Ford Everest  Napier, Hawke's Bay   \n",
       "3  1668262051669-3837242562-location  Ford Ecosport  Napier, Hawke's Bay   \n",
       "4  1668262068407-3820002936-location   Ford Courier  Napier, Hawke's Bay   \n",
       "\n",
       "                 City        Island  Age           age_bin    mileage  \\\n",
       "0  Other North Island  North Island    4  4 to 5 years old   85,796km   \n",
       "1  Other North Island  North Island    3  3 to 4 years old   36,623km   \n",
       "2  Other North Island  North Island    1               New   12,380km   \n",
       "3  Other North Island  North Island    6  6 to 7 years old   33,650km   \n",
       "4  Other North Island  North Island   23     Over 20 years  327,786km   \n",
       "\n",
       "              mileage_bin  engine_size    fuel transmission asking_price  \\\n",
       "0   50,000km to 100,000km         3200  Diesel    Automatic        53990   \n",
       "1    20,000km to 50,000km         2000  Diesel    Automatic        69990   \n",
       "2     1,000km to 20,000km         2000  Diesel    Automatic        74990   \n",
       "3    20,000km to 50,000km         1500  Petrol    Automatic        15990   \n",
       "4  250,000km to 500,000km         2500  Diesel       Manual         7250   \n",
       "\n",
       "      seller_type                                           h_string  \\\n",
       "0          Dealer  Dealer; 4 to 5 years old; 50,000km to 100,000k...   \n",
       "1          Dealer  Dealer; 3 to 4 years old; 20,000km to 50,000km...   \n",
       "2          Dealer  Dealer; New; 1,000km to 20,000km; 2000; Diesel...   \n",
       "3          Dealer  Dealer; 6 to 7 years old; 20,000km to 50,000km...   \n",
       "4  Private seller  Private seller; Over 20 years; 250,000km to 50...   \n",
       "\n",
       "                                           sub_title  \n",
       "0     Ask us about Finance options on all vehicles!   \n",
       "1              TONNEAU COVER / TOW BAR / DECK LINER   \n",
       "2     Ask us about Finance options on all vehicles!   \n",
       "3   Franchise Backed-Delivery NZ Wide-Great Servi...  \n",
       "4                             2000 Ford Courier xlx   "
      ]
     },
     "execution_count": 33,
     "metadata": {},
     "output_type": "execute_result"
    }
   ],
   "source": [
    "# Examine final df format:\n",
    "all_df.head()"
   ]
  },
  {
   "cell_type": "code",
   "execution_count": 34,
   "metadata": {},
   "outputs": [],
   "source": [
    "all_df.to_csv('csv_files/final_sorted_data.csv')"
   ]
  }
 ],
 "metadata": {
  "kernelspec": {
   "display_name": "Python 3 (ipykernel)",
   "language": "python",
   "name": "python3"
  },
  "language_info": {
   "codemirror_mode": {
    "name": "ipython",
    "version": 3
   },
   "file_extension": ".py",
   "mimetype": "text/x-python",
   "name": "python",
   "nbconvert_exporter": "python",
   "pygments_lexer": "ipython3",
   "version": "3.9.13"
  },
  "vscode": {
   "interpreter": {
    "hash": "f45ebf2a801f55c914e5d04dd859f0a7608657f9bbbd59759f28d45b308cf7fe"
   }
  }
 },
 "nbformat": 4,
 "nbformat_minor": 2
}
