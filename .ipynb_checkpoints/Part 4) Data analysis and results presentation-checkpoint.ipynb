{
 "cells": [
  {
   "cell_type": "markdown",
   "id": "a2e85912-60ac-4780-b6e5-a9707a321b90",
   "metadata": {},
   "source": [
    "# Data analysis"
   ]
  },
  {
   "cell_type": "markdown",
   "id": "a8dc0e17-1e79-49a0-a66c-612cf597ff05",
   "metadata": {},
   "source": [
    "### Import necessary packages:"
   ]
  },
  {
   "cell_type": "code",
   "execution_count": 1,
   "id": "854e0d9c-5f6d-4e5b-8fdb-e9cd8c16c617",
   "metadata": {},
   "outputs": [
    {
     "name": "stderr",
     "output_type": "stream",
     "text": [
      "/home/lordflashart/anaconda3/envs/webscraping/lib/python3.9/site-packages/scipy/__init__.py:146: UserWarning: A NumPy version >=1.16.5 and <1.23.0 is required for this version of SciPy (detected version 1.23.3\n",
      "  warnings.warn(f\"A NumPy version >={np_minversion} and <{np_maxversion}\"\n"
     ]
    }
   ],
   "source": [
    "import pandas as pd\n",
    "from matplotlib import pyplot as plt\n",
    "import seaborn as sns"
   ]
  },
  {
   "cell_type": "markdown",
   "id": "10a93ddf-8ee6-4cf6-8fb7-ffc02e376638",
   "metadata": {},
   "source": [
    "### Import data and check format:"
   ]
  },
  {
   "cell_type": "code",
   "execution_count": 2,
   "id": "e5054066-3164-4bad-a979-5311364e8942",
   "metadata": {},
   "outputs": [
    {
     "data": {
      "text/html": [
       "<div>\n",
       "<style scoped>\n",
       "    .dataframe tbody tr th:only-of-type {\n",
       "        vertical-align: middle;\n",
       "    }\n",
       "\n",
       "    .dataframe tbody tr th {\n",
       "        vertical-align: top;\n",
       "    }\n",
       "\n",
       "    .dataframe thead th {\n",
       "        text-align: right;\n",
       "    }\n",
       "</style>\n",
       "<table border=\"1\" class=\"dataframe\">\n",
       "  <thead>\n",
       "    <tr style=\"text-align: right;\">\n",
       "      <th></th>\n",
       "      <th>Make &amp; Model</th>\n",
       "      <th>location</th>\n",
       "      <th>City</th>\n",
       "      <th>Island</th>\n",
       "      <th>Age</th>\n",
       "      <th>age_bin</th>\n",
       "      <th>mileage</th>\n",
       "      <th>mileage_bin</th>\n",
       "      <th>engine_size</th>\n",
       "      <th>fuel</th>\n",
       "      <th>transmission</th>\n",
       "      <th>asking_price</th>\n",
       "      <th>seller_type</th>\n",
       "      <th>h_string</th>\n",
       "      <th>sub_title</th>\n",
       "    </tr>\n",
       "    <tr>\n",
       "      <th>listing_id</th>\n",
       "      <th></th>\n",
       "      <th></th>\n",
       "      <th></th>\n",
       "      <th></th>\n",
       "      <th></th>\n",
       "      <th></th>\n",
       "      <th></th>\n",
       "      <th></th>\n",
       "      <th></th>\n",
       "      <th></th>\n",
       "      <th></th>\n",
       "      <th></th>\n",
       "      <th></th>\n",
       "      <th></th>\n",
       "      <th></th>\n",
       "    </tr>\n",
       "  </thead>\n",
       "  <tbody>\n",
       "    <tr>\n",
       "      <th>1668261987118-3860157887-location</th>\n",
       "      <td>Ford Ranger</td>\n",
       "      <td>Napier, Hawke's Bay</td>\n",
       "      <td>Other North Island</td>\n",
       "      <td>North Island</td>\n",
       "      <td>4</td>\n",
       "      <td>4 to 5 years old</td>\n",
       "      <td>85,796km</td>\n",
       "      <td>50,000km to 100,000km</td>\n",
       "      <td>3200</td>\n",
       "      <td>Diesel</td>\n",
       "      <td>Automatic</td>\n",
       "      <td>53990</td>\n",
       "      <td>Dealer</td>\n",
       "      <td>Dealer; 4 to 5 years old; 50,000km to 100,000k...</td>\n",
       "      <td>Ask us about Finance options on all vehicles!</td>\n",
       "    </tr>\n",
       "  </tbody>\n",
       "</table>\n",
       "</div>"
      ],
      "text/plain": [
       "                                  Make & Model             location  \\\n",
       "listing_id                                                            \n",
       "1668261987118-3860157887-location  Ford Ranger  Napier, Hawke's Bay   \n",
       "\n",
       "                                                 City        Island  Age  \\\n",
       "listing_id                                                                 \n",
       "1668261987118-3860157887-location  Other North Island  North Island    4   \n",
       "\n",
       "                                            age_bin   mileage  \\\n",
       "listing_id                                                      \n",
       "1668261987118-3860157887-location  4 to 5 years old  85,796km   \n",
       "\n",
       "                                             mileage_bin  engine_size    fuel  \\\n",
       "listing_id                                                                      \n",
       "1668261987118-3860157887-location  50,000km to 100,000km         3200  Diesel   \n",
       "\n",
       "                                  transmission  asking_price seller_type  \\\n",
       "listing_id                                                                 \n",
       "1668261987118-3860157887-location    Automatic         53990      Dealer   \n",
       "\n",
       "                                                                            h_string  \\\n",
       "listing_id                                                                             \n",
       "1668261987118-3860157887-location  Dealer; 4 to 5 years old; 50,000km to 100,000k...   \n",
       "\n",
       "                                                                         sub_title  \n",
       "listing_id                                                                          \n",
       "1668261987118-3860157887-location   Ask us about Finance options on all vehicles!   "
      ]
     },
     "execution_count": 2,
     "metadata": {},
     "output_type": "execute_result"
    }
   ],
   "source": [
    "df = pd.read_csv('csv_files/final_sorted_data.csv', index_col='listing_id')\n",
    "df.drop(columns=['Unnamed: 0'], inplace=True)\n",
    "pd.set_option('display.max_columns', None)\n",
    "df.head(1)"
   ]
  },
  {
   "cell_type": "markdown",
   "id": "7674ecd6-a90f-4c8c-83ff-4dd370e66d4e",
   "metadata": {},
   "source": [
    "### Examine data:"
   ]
  },
  {
   "cell_type": "markdown",
   "id": "741cc171",
   "metadata": {},
   "source": [
    "#### Count rows and columns"
   ]
  },
  {
   "cell_type": "code",
   "execution_count": 3,
   "id": "0985d071-635f-4c46-8dc0-aa633abe14f4",
   "metadata": {},
   "outputs": [
    {
     "data": {
      "text/plain": [
       "(35908, 15)"
      ]
     },
     "execution_count": 3,
     "metadata": {},
     "output_type": "execute_result"
    }
   ],
   "source": [
    "df.shape"
   ]
  },
  {
   "cell_type": "markdown",
   "id": "e4e2af2a",
   "metadata": {},
   "source": [
    "#### Count unique values in each column heading:"
   ]
  },
  {
   "cell_type": "code",
   "execution_count": 4,
   "id": "9a2f55bb-de62-49ed-9ac8-0c1b4069bc23",
   "metadata": {},
   "outputs": [
    {
     "data": {
      "text/plain": [
       "Make & Model      443\n",
       "location          192\n",
       "City                6\n",
       "Island              2\n",
       "Age                92\n",
       "age_bin            12\n",
       "mileage         21284\n",
       "mileage_bin         9\n",
       "engine_size        69\n",
       "fuel                5\n",
       "transmission        3\n",
       "asking_price     4105\n",
       "seller_type         2\n",
       "h_string         3807\n",
       "sub_title        9029\n",
       "dtype: int64"
      ]
     },
     "execution_count": 4,
     "metadata": {},
     "output_type": "execute_result"
    }
   ],
   "source": [
    "df.nunique()"
   ]
  },
  {
   "cell_type": "markdown",
   "id": "dfe760c2",
   "metadata": {},
   "source": [
    "#### View most popular Make/Model combination listings:"
   ]
  },
  {
   "cell_type": "code",
   "execution_count": 5,
   "id": "f53f58c9-bb03-4152-a4d5-3a6562dec3a2",
   "metadata": {},
   "outputs": [
    {
     "data": {
      "text/plain": [
       "Toyota Aqua               2385\n",
       "Ford Ranger               1598\n",
       "Toyota Hilux              1564\n",
       "Toyota Corolla            1519\n",
       "Toyota Prius              1395\n",
       "                          ... \n",
       "Toyota CAMRY                 1\n",
       "Ford 1961 Ford prefect       1\n",
       "Toyota Gaia                  1\n",
       "Ford Torino                  1\n",
       "Nissan President             1\n",
       "Name: Make & Model, Length: 443, dtype: int64"
      ]
     },
     "execution_count": 5,
     "metadata": {},
     "output_type": "execute_result"
    }
   ],
   "source": [
    "df['Make & Model'].value_counts()"
   ]
  },
  {
   "cell_type": "markdown",
   "id": "eee9b9ed",
   "metadata": {},
   "source": [
    "#### Check most popular comparable models by counting the 'h_string' - identify the most representative listings to analyse:"
   ]
  },
  {
   "cell_type": "code",
   "execution_count": 20,
   "id": "7f41177c",
   "metadata": {},
   "outputs": [
    {
     "data": {
      "text/plain": [
       "Dealer; 10 to 15 years old; 50,000km to 100,000km; 1500; Hybrid; Automatic                    308\n",
       "Dealer; 10 to 15 years old; 100,000km to 250,000km; 1500; Hybrid; Automatic                   305\n",
       "Dealer; 6 to 7 years old; 50,000km to 100,000km; 1500; Hybrid; Automatic                      241\n",
       "Dealer; 6 to 7 years old; 100,000km to 250,000km; 1500; Hybrid; Automatic                     176\n",
       "Dealer; 8 to 9 years old; 100,000km to 250,000km; 1500; Hybrid; Automatic                     146\n",
       "                                                                                             ... \n",
       "Private seller; 10 to 15 years old; 50,000km to 100,000km; 0; Not available; Not available      1\n",
       "Private seller; 10 to 15 years old; 50,000km to 100,000km; 0; Hybrid; Automatic                 1\n",
       "Dealer; 6 to 7 years old; 20,000km to 50,000km; 15000; Hybrid; Automatic                        1\n",
       "Private seller; 10 to 15 years old; 20,000km to 50,000km; 1500; Hybrid; Automatic               1\n",
       "Dealer; 10 to 15 years old; 50,000km to 100,000km; 1500; Petrol; Not available                  1\n",
       "Name: h_string, Length: 112, dtype: int64"
      ]
     },
     "execution_count": 20,
     "metadata": {},
     "output_type": "execute_result"
    }
   ],
   "source": [
    "filt = df['Make & Model'] == 'Toyota Aqua'\n",
    "acqua_df = df[filt]\n",
    "acqua_df['h_string'].value_counts()"
   ]
  },
  {
   "cell_type": "code",
   "execution_count": 7,
   "id": "d2d785f0",
   "metadata": {},
   "outputs": [
    {
     "data": {
      "text/plain": [
       "Dealer; 6 to 7 years old; 100,000km to 250,000km; 3200; Diesel; Automatic           54\n",
       "Dealer; 7 to 8 years old; 100,000km to 250,000km; 3200; Diesel; Automatic           53\n",
       "Dealer; New; 1,000km to 20,000km; 2000; Diesel; Automatic                           52\n",
       "Dealer; 4 to 5 years old; 50,000km to 100,000km; 3200; Diesel; Automatic            50\n",
       "Dealer; 5 to 6 years old; 50,000km to 100,000km; 3200; Diesel; Automatic            41\n",
       "                                                                                    ..\n",
       "Dealer; 6 to 7 years old; 250,000km to 500,000km; 3200; Diesel; Automatic            1\n",
       "Dealer; 5 to 6 years old; 250,000km to 500,000km; 3200; Diesel; Automatic            1\n",
       "Dealer; 10 to 15 years old; 100,000km to 250,000km; 2200; Diesel; Manual             1\n",
       "Private seller; 15 to 20 years old; 100,000km to 250,000km; 2500; Diesel; Manual     1\n",
       "Private seller; 9 to 10 years old; 20,000km to 50,000km; 3200; Diesel; Manual        1\n",
       "Name: h_string, Length: 234, dtype: int64"
      ]
     },
     "execution_count": 7,
     "metadata": {},
     "output_type": "execute_result"
    }
   ],
   "source": [
    "filt = df['Make & Model'] == 'Ford Ranger'\n",
    "acqua_df = df[filt]\n",
    "acqua_df['h_string'].value_counts()"
   ]
  },
  {
   "cell_type": "code",
   "execution_count": 8,
   "id": "30411dbb",
   "metadata": {},
   "outputs": [
    {
     "data": {
      "text/plain": [
       "Private seller; 15 to 20 years old; 250,000km to 500,000km; 3000; Diesel; Manual    74\n",
       "Private seller; Over 20 years; 250,000km to 500,000km; 3000; Diesel; Manual         66\n",
       "Private seller; 10 to 15 years old; 100,000km to 250,000km; 3000; Diesel; Manual    61\n",
       "Dealer; 10 to 15 years old; 100,000km to 250,000km; 3000; Diesel; Manual            53\n",
       "Dealer; 4 to 5 years old; 50,000km to 100,000km; 2800; Diesel; Automatic            41\n",
       "                                                                                    ..\n",
       "Private seller; 15 to 20 years old; 20,000km to 50,000km; 3000; Diesel; Manual       1\n",
       "Private seller; Over 20 years; None; 3800; Not available; Automatic                  1\n",
       "Private seller; Over 20 years; 100,000km to 250,000km; 2400; Diesel; Automatic       1\n",
       "Dealer; 9 to 10 years old; 250,000km to 500,000km; 3000; Diesel; Automatic           1\n",
       "Private seller; 7 to 8 years old; 50,000km to 100,000km; 2800; Diesel; Manual        1\n",
       "Name: h_string, Length: 266, dtype: int64"
      ]
     },
     "execution_count": 8,
     "metadata": {},
     "output_type": "execute_result"
    }
   ],
   "source": [
    "filt = df['Make & Model'] == 'Toyota Hilux'\n",
    "acqua_df = df[filt]\n",
    "acqua_df['h_string'].value_counts()"
   ]
  },
  {
   "cell_type": "code",
   "execution_count": 9,
   "id": "4e191724",
   "metadata": {},
   "outputs": [
    {
     "data": {
      "text/plain": [
       "Dealer; 6 to 7 years old; 50,000km to 100,000km; 1500; Hybrid; Automatic           78\n",
       "Dealer; 4 to 5 years old; 20,000km to 50,000km; 2000; Petrol; Automatic            67\n",
       "Dealer; 6 to 7 years old; 100,000km to 250,000km; 1500; Hybrid; Automatic          56\n",
       "Dealer; 8 to 9 years old; 50,000km to 100,000km; 1500; Hybrid; Automatic           49\n",
       "Dealer; 5 to 6 years old; 50,000km to 100,000km; 1800; Petrol; Automatic           49\n",
       "                                                                                   ..\n",
       "Dealer; 4 to 5 years old; 20,000km to 50,000km; 1800; Hybrid; Not available         1\n",
       "Private seller; 7 to 8 years old; 20,000km to 50,000km; 1500; Petrol; Automatic     1\n",
       "Private seller; Over 20 years; 1,000km to 20,000km; 1300; Petrol; Manual            1\n",
       "Private seller; Over 20 years; 250,000km to 500,000km; 1600; Petrol; Automatic      1\n",
       "Dealer; 9 to 10 years old; 50,000km to 100,000km; 1500; Petrol; Not available       1\n",
       "Name: h_string, Length: 276, dtype: int64"
      ]
     },
     "execution_count": 9,
     "metadata": {},
     "output_type": "execute_result"
    }
   ],
   "source": [
    "filt = df['Make & Model'] == 'Toyota Corolla'\n",
    "acqua_df = df[filt]\n",
    "acqua_df['h_string'].value_counts()"
   ]
  },
  {
   "cell_type": "code",
   "execution_count": 10,
   "id": "69fbf0a6",
   "metadata": {},
   "outputs": [
    {
     "data": {
      "text/plain": [
       "Dealer; 10 to 15 years old; 100,000km to 250,000km; 1800; Hybrid; Automatic      306\n",
       "Dealer; 10 to 15 years old; 50,000km to 100,000km; 1800; Hybrid; Automatic       241\n",
       "Dealer; 8 to 9 years old; 50,000km to 100,000km; 1800; Hybrid; Automatic          82\n",
       "Dealer; 6 to 7 years old; 50,000km to 100,000km; 1800; Hybrid; Automatic          70\n",
       "Dealer; 8 to 9 years old; 100,000km to 250,000km; 1800; Hybrid; Automatic         57\n",
       "                                                                                ... \n",
       "Private seller; 6 to 7 years old; 50,000km to 100,000km; 0; Hybrid; Automatic      1\n",
       "Dealer; 7 to 8 years old; 50,000km to 100,000km; 1800; Hybrid; Not available       1\n",
       "Dealer; 7 to 8 years old; 50,000km to 100,000km; 0; Hybrid; Automatic              1\n",
       "Dealer; 15 to 20 years old; 20,000km to 50,000km; 1500; Hybrid; Automatic          1\n",
       "Dealer; 6 to 7 years old; 20,000km to 50,000km; 0; Electric; Automatic             1\n",
       "Name: h_string, Length: 128, dtype: int64"
      ]
     },
     "execution_count": 10,
     "metadata": {},
     "output_type": "execute_result"
    }
   ],
   "source": [
    "filt = df['Make & Model'] == 'Toyota Prius'\n",
    "acqua_df = df[filt]\n",
    "acqua_df['h_string'].value_counts()"
   ]
  },
  {
   "cell_type": "code",
   "execution_count": 23,
   "id": "2d617d4b",
   "metadata": {},
   "outputs": [
    {
     "data": {
      "text/plain": [
       "<BarContainer object of 1 artists>"
      ]
     },
     "execution_count": 23,
     "metadata": {},
     "output_type": "execute_result"
    },
    {
     "data": {
      "image/png": "[encoded data removed]",
      "text/plain": [
       "<Figure size 640x480 with 1 Axes>"
      ]
     },
     "metadata": {},
     "output_type": "display_data"
    }
   ],
   "source": [
    "prius_chart = df['Make & Model'] == 'Toyota Prius'\n",
    "\n",
    "plt.bar('Island', 'asking_price')"
   ]
  },
  {
   "cell_type": "code",
   "execution_count": null,
   "id": "5e6f3684",
   "metadata": {},
   "outputs": [],
   "source": []
  },
  {
   "cell_type": "markdown",
   "id": "6390460f",
   "metadata": {},
   "source": [
    "#### Conclusion:\n",
    "\n",
    "The most common models in the country have between 1,500 and 2,400 listings, however there are only six groups of homogenous listings where the listings share similar characteristics (identified by the h_string) with over 200 listings nationwide. These will form the focus of the initial analysis.\n",
    "\n",
    "It has been assumed to this point that all the data collected could have an impact on price (e.g a manual gearbox will be priced differently to an automatic one, or that different fuel types will mean different listings are not directly comparable.\n",
    "\n",
    "To sense check this assumption, and see if we can widen some of the categories, we will look at a heatmap to show the impact of each individual characteristic."
   ]
  },
  {
   "cell_type": "markdown",
   "id": "1d9e70eb",
   "metadata": {},
   "source": [
    "### Look at correlation to view impact of different characteristics on price:"
   ]
  },
  {
   "cell_type": "code",
   "execution_count": 11,
   "id": "788a23a5",
   "metadata": {},
   "outputs": [],
   "source": [
    "# Create dataframes with filters for most popular models:\n",
    "filt = df['Make & Model'] == 'Toyota Aqua'\n",
    "acqua_df = df[filt]\n",
    "\n",
    "filt = df['Make & Model'] == 'Ford Ranger'\n",
    "ranger_df = df[filt]"
   ]
  },
  {
   "cell_type": "code",
   "execution_count": 12,
   "id": "d91e1f1f",
   "metadata": {},
   "outputs": [],
   "source": [
    "# Remove non-numerical values:\n",
    "ranger_df = ranger_df.drop(columns=['Make & Model', \n",
    "                                    'location', \n",
    "                                    'Island', \n",
    "                                    'City', \n",
    "                                    'age_bin', \n",
    "                                    'mileage_bin', \n",
    "                                    'h_string', \n",
    "                                    'sub_title'])\n",
    "\n",
    "acqua_df = acqua_df.drop(columns=['Make & Model', \n",
    "                                    'location', \n",
    "                                    'Island', \n",
    "                                    'City', \n",
    "                                    'age_bin', \n",
    "                                    'mileage_bin', \n",
    "                                    'h_string', \n",
    "                                    'sub_title'])"
   ]
  },
  {
   "cell_type": "code",
   "execution_count": 13,
   "id": "7aef3003",
   "metadata": {},
   "outputs": [],
   "source": [
    "# Convert mileage/km to a numerical value:\n",
    "ranger_df['mileage'] = ranger_df['mileage'].str.replace(\"km\", \"\")\n",
    "ranger_df['mileage'] = ranger_df['mileage'].str.replace(\",\", \"\")\n",
    "ranger_df['mileage'] = ranger_df['mileage'].str.replace(\"mileage missing\", \"\")\n",
    "\n",
    "acqua_df['mileage'] = acqua_df['mileage'].str.replace(\"km\", \"\")\n",
    "acqua_df['mileage'] = acqua_df['mileage'].str.replace(\",\", \"\")\n",
    "acqua_df['mileage'] = acqua_df['mileage'].str.replace(\"mileage missing\", \"\")\n",
    "\n",
    "# Overwrite empty values:\n",
    "ranger_df.loc['1668262763787-3774402872-location', 'mileage'] = '0'\n",
    "ranger_df.loc['1668262795782-3732540866-location', 'mileage'] = '0'\n",
    "ranger_df.loc['1668262789325-3752398185-location', 'mileage'] = '0'\n",
    "ranger_df.loc['1668262051871-3832980818-location', 'mileage'] = '0'\n",
    "\n",
    "# Convert to float\n",
    "ranger_df['mileage'] = ranger_df['mileage'].astype(float)\n",
    "acqua_df['mileage'] = acqua_df['mileage'].astype(float)"
   ]
  },
  {
   "cell_type": "code",
   "execution_count": 14,
   "id": "31c0fe58",
   "metadata": {},
   "outputs": [],
   "source": [
    "# Change fuel column to numerical values:\n",
    "ranger_df['fuel'] = ranger_df['fuel'].str.replace(\"Diesel\", \"0\")\n",
    "ranger_df['fuel'] = ranger_df['fuel'].str.replace(\"Not available\", \"0\")\n",
    "ranger_df['fuel'] = ranger_df['fuel'].str.replace(\"Petrol\", \"1\")\n",
    "\n",
    "acqua_df['fuel'] = acqua_df['fuel'].str.replace(\"Diesel\", \"0\")\n",
    "acqua_df['fuel'] = acqua_df['fuel'].str.replace(\"Not available\", \"0\")\n",
    "acqua_df['fuel'] = acqua_df['fuel'].str.replace(\"Petrol\", \"1\")\n",
    "acqua_df['fuel'] = acqua_df['fuel'].str.replace(\"Hybrid\", \"2\")\n",
    "\n",
    "# Convert to float\n",
    "ranger_df['fuel'] = ranger_df['fuel'].astype(float)\n",
    "acqua_df['fuel'] = acqua_df['fuel'].astype(float)"
   ]
  },
  {
   "cell_type": "code",
   "execution_count": 15,
   "id": "a1704c29",
   "metadata": {},
   "outputs": [],
   "source": [
    "# Change transmissiom column to numerical values:\n",
    "ranger_df['transmission'] = ranger_df['transmission'].str.replace(\"Automatic\", \"0\")\n",
    "ranger_df['transmission'] = ranger_df['transmission'].str.replace(\"Manual\", \"1\")\n",
    "ranger_df['transmission'] = ranger_df['transmission'].str.replace(\"Not available\", \"0\")\n",
    "\n",
    "acqua_df['transmission'] = acqua_df['transmission'].str.replace(\"Automatic\", \"0\")\n",
    "acqua_df['transmission'] = acqua_df['transmission'].str.replace(\"Manual\", \"1\")\n",
    "acqua_df['transmission'] = acqua_df['transmission'].str.replace(\"Not available\", \"0\")\n",
    "\n",
    "# Convert to float\n",
    "ranger_df['transmission'] = ranger_df['transmission'].astype(float)\n",
    "acqua_df['transmission'] = acqua_df['transmission'].astype(float)"
   ]
  },
  {
   "cell_type": "code",
   "execution_count": 16,
   "id": "25c7c4cf",
   "metadata": {},
   "outputs": [],
   "source": [
    "# Change seller type to numerical values:\n",
    "ranger_df['seller_type'] = ranger_df['seller_type'].str.replace(\"Dealer\", \"1\")\n",
    "ranger_df['seller_type'] = ranger_df['seller_type'].str.replace(\"Private seller\", \"0\")\n",
    "\n",
    "acqua_df['seller_type'] = acqua_df['seller_type'].str.replace(\"Dealer\", \"1\")\n",
    "acqua_df['seller_type'] = acqua_df['seller_type'].str.replace(\"Private seller\", \"0\")\n",
    "\n",
    "# Convert to float\n",
    "ranger_df['seller_type'] = ranger_df['seller_type'].astype(float)\n",
    "acqua_df['seller_type'] = acqua_df['seller_type'].astype(float)"
   ]
  },
  {
   "cell_type": "code",
   "execution_count": 17,
   "id": "13a3127b",
   "metadata": {},
   "outputs": [],
   "source": [
    "# Reset index:\n",
    "ranger_df.reset_index(drop=True, inplace=True)\n",
    "acqua_df.reset_index(drop=True, inplace=True)"
   ]
  },
  {
   "cell_type": "code",
   "execution_count": 18,
   "id": "54513e31",
   "metadata": {},
   "outputs": [
    {
     "data": {
      "text/html": [
       "<div>\n",
       "<style scoped>\n",
       "    .dataframe tbody tr th:only-of-type {\n",
       "        vertical-align: middle;\n",
       "    }\n",
       "\n",
       "    .dataframe tbody tr th {\n",
       "        vertical-align: top;\n",
       "    }\n",
       "\n",
       "    .dataframe thead th {\n",
       "        text-align: right;\n",
       "    }\n",
       "</style>\n",
       "<table border=\"1\" class=\"dataframe\">\n",
       "  <thead>\n",
       "    <tr style=\"text-align: right;\">\n",
       "      <th></th>\n",
       "      <th>Age</th>\n",
       "      <th>mileage</th>\n",
       "      <th>engine_size</th>\n",
       "      <th>fuel</th>\n",
       "      <th>transmission</th>\n",
       "      <th>asking_price</th>\n",
       "      <th>seller_type</th>\n",
       "    </tr>\n",
       "  </thead>\n",
       "  <tbody>\n",
       "    <tr>\n",
       "      <th>Age</th>\n",
       "      <td>1.000000</td>\n",
       "      <td>0.742581</td>\n",
       "      <td>0.427141</td>\n",
       "      <td>0.058521</td>\n",
       "      <td>0.556496</td>\n",
       "      <td>-0.123503</td>\n",
       "      <td>-0.219958</td>\n",
       "    </tr>\n",
       "    <tr>\n",
       "      <th>mileage</th>\n",
       "      <td>0.742581</td>\n",
       "      <td>1.000000</td>\n",
       "      <td>0.378096</td>\n",
       "      <td>-0.036535</td>\n",
       "      <td>0.507776</td>\n",
       "      <td>-0.116862</td>\n",
       "      <td>-0.149507</td>\n",
       "    </tr>\n",
       "    <tr>\n",
       "      <th>engine_size</th>\n",
       "      <td>0.427141</td>\n",
       "      <td>0.378096</td>\n",
       "      <td>1.000000</td>\n",
       "      <td>0.061983</td>\n",
       "      <td>0.180656</td>\n",
       "      <td>-0.121192</td>\n",
       "      <td>-0.096388</td>\n",
       "    </tr>\n",
       "    <tr>\n",
       "      <th>fuel</th>\n",
       "      <td>0.058521</td>\n",
       "      <td>-0.036535</td>\n",
       "      <td>0.061983</td>\n",
       "      <td>1.000000</td>\n",
       "      <td>-0.015675</td>\n",
       "      <td>0.000946</td>\n",
       "      <td>-0.030802</td>\n",
       "    </tr>\n",
       "    <tr>\n",
       "      <th>transmission</th>\n",
       "      <td>0.556496</td>\n",
       "      <td>0.507776</td>\n",
       "      <td>0.180656</td>\n",
       "      <td>-0.015675</td>\n",
       "      <td>1.000000</td>\n",
       "      <td>-0.056841</td>\n",
       "      <td>-0.112316</td>\n",
       "    </tr>\n",
       "    <tr>\n",
       "      <th>asking_price</th>\n",
       "      <td>-0.123503</td>\n",
       "      <td>-0.116862</td>\n",
       "      <td>-0.121192</td>\n",
       "      <td>0.000946</td>\n",
       "      <td>-0.056841</td>\n",
       "      <td>1.000000</td>\n",
       "      <td>0.049938</td>\n",
       "    </tr>\n",
       "    <tr>\n",
       "      <th>seller_type</th>\n",
       "      <td>-0.219958</td>\n",
       "      <td>-0.149507</td>\n",
       "      <td>-0.096388</td>\n",
       "      <td>-0.030802</td>\n",
       "      <td>-0.112316</td>\n",
       "      <td>0.049938</td>\n",
       "      <td>1.000000</td>\n",
       "    </tr>\n",
       "  </tbody>\n",
       "</table>\n",
       "</div>"
      ],
      "text/plain": [
       "                   Age   mileage  engine_size      fuel  transmission  \\\n",
       "Age           1.000000  0.742581     0.427141  0.058521      0.556496   \n",
       "mileage       0.742581  1.000000     0.378096 -0.036535      0.507776   \n",
       "engine_size   0.427141  0.378096     1.000000  0.061983      0.180656   \n",
       "fuel          0.058521 -0.036535     0.061983  1.000000     -0.015675   \n",
       "transmission  0.556496  0.507776     0.180656 -0.015675      1.000000   \n",
       "asking_price -0.123503 -0.116862    -0.121192  0.000946     -0.056841   \n",
       "seller_type  -0.219958 -0.149507    -0.096388 -0.030802     -0.112316   \n",
       "\n",
       "              asking_price  seller_type  \n",
       "Age              -0.123503    -0.219958  \n",
       "mileage          -0.116862    -0.149507  \n",
       "engine_size      -0.121192    -0.096388  \n",
       "fuel              0.000946    -0.030802  \n",
       "transmission     -0.056841    -0.112316  \n",
       "asking_price      1.000000     0.049938  \n",
       "seller_type       0.049938     1.000000  "
      ]
     },
     "execution_count": 18,
     "metadata": {},
     "output_type": "execute_result"
    }
   ],
   "source": [
    "ranger_df.corr()"
   ]
  },
  {
   "cell_type": "code",
   "execution_count": 19,
   "id": "ea5d1c66",
   "metadata": {},
   "outputs": [
    {
     "data": {
      "text/html": [
       "<div>\n",
       "<style scoped>\n",
       "    .dataframe tbody tr th:only-of-type {\n",
       "        vertical-align: middle;\n",
       "    }\n",
       "\n",
       "    .dataframe tbody tr th {\n",
       "        vertical-align: top;\n",
       "    }\n",
       "\n",
       "    .dataframe thead th {\n",
       "        text-align: right;\n",
       "    }\n",
       "</style>\n",
       "<table border=\"1\" class=\"dataframe\">\n",
       "  <thead>\n",
       "    <tr style=\"text-align: right;\">\n",
       "      <th></th>\n",
       "      <th>Age</th>\n",
       "      <th>mileage</th>\n",
       "      <th>engine_size</th>\n",
       "      <th>fuel</th>\n",
       "      <th>transmission</th>\n",
       "      <th>asking_price</th>\n",
       "      <th>seller_type</th>\n",
       "    </tr>\n",
       "  </thead>\n",
       "  <tbody>\n",
       "    <tr>\n",
       "      <th>Age</th>\n",
       "      <td>1.000000</td>\n",
       "      <td>0.160793</td>\n",
       "      <td>-0.031408</td>\n",
       "      <td>-0.029486</td>\n",
       "      <td>NaN</td>\n",
       "      <td>-0.475124</td>\n",
       "      <td>-0.028247</td>\n",
       "    </tr>\n",
       "    <tr>\n",
       "      <th>mileage</th>\n",
       "      <td>0.160793</td>\n",
       "      <td>1.000000</td>\n",
       "      <td>-0.045270</td>\n",
       "      <td>-0.049673</td>\n",
       "      <td>NaN</td>\n",
       "      <td>-0.539160</td>\n",
       "      <td>-0.084252</td>\n",
       "    </tr>\n",
       "    <tr>\n",
       "      <th>engine_size</th>\n",
       "      <td>-0.031408</td>\n",
       "      <td>-0.045270</td>\n",
       "      <td>1.000000</td>\n",
       "      <td>0.040605</td>\n",
       "      <td>NaN</td>\n",
       "      <td>-0.055569</td>\n",
       "      <td>0.062955</td>\n",
       "    </tr>\n",
       "    <tr>\n",
       "      <th>fuel</th>\n",
       "      <td>-0.029486</td>\n",
       "      <td>-0.049673</td>\n",
       "      <td>0.040605</td>\n",
       "      <td>1.000000</td>\n",
       "      <td>NaN</td>\n",
       "      <td>0.014828</td>\n",
       "      <td>-0.027037</td>\n",
       "    </tr>\n",
       "    <tr>\n",
       "      <th>transmission</th>\n",
       "      <td>NaN</td>\n",
       "      <td>NaN</td>\n",
       "      <td>NaN</td>\n",
       "      <td>NaN</td>\n",
       "      <td>NaN</td>\n",
       "      <td>NaN</td>\n",
       "      <td>NaN</td>\n",
       "    </tr>\n",
       "    <tr>\n",
       "      <th>asking_price</th>\n",
       "      <td>-0.475124</td>\n",
       "      <td>-0.539160</td>\n",
       "      <td>-0.055569</td>\n",
       "      <td>0.014828</td>\n",
       "      <td>NaN</td>\n",
       "      <td>1.000000</td>\n",
       "      <td>0.158279</td>\n",
       "    </tr>\n",
       "    <tr>\n",
       "      <th>seller_type</th>\n",
       "      <td>-0.028247</td>\n",
       "      <td>-0.084252</td>\n",
       "      <td>0.062955</td>\n",
       "      <td>-0.027037</td>\n",
       "      <td>NaN</td>\n",
       "      <td>0.158279</td>\n",
       "      <td>1.000000</td>\n",
       "    </tr>\n",
       "  </tbody>\n",
       "</table>\n",
       "</div>"
      ],
      "text/plain": [
       "                   Age   mileage  engine_size      fuel  transmission  \\\n",
       "Age           1.000000  0.160793    -0.031408 -0.029486           NaN   \n",
       "mileage       0.160793  1.000000    -0.045270 -0.049673           NaN   \n",
       "engine_size  -0.031408 -0.045270     1.000000  0.040605           NaN   \n",
       "fuel         -0.029486 -0.049673     0.040605  1.000000           NaN   \n",
       "transmission       NaN       NaN          NaN       NaN           NaN   \n",
       "asking_price -0.475124 -0.539160    -0.055569  0.014828           NaN   \n",
       "seller_type  -0.028247 -0.084252     0.062955 -0.027037           NaN   \n",
       "\n",
       "              asking_price  seller_type  \n",
       "Age              -0.475124    -0.028247  \n",
       "mileage          -0.539160    -0.084252  \n",
       "engine_size      -0.055569     0.062955  \n",
       "fuel              0.014828    -0.027037  \n",
       "transmission           NaN          NaN  \n",
       "asking_price      1.000000     0.158279  \n",
       "seller_type       0.158279     1.000000  "
      ]
     },
     "execution_count": 19,
     "metadata": {},
     "output_type": "execute_result"
    }
   ],
   "source": [
    "acqua_df.corr()"
   ]
  },
  {
   "cell_type": "code",
   "execution_count": null,
   "id": "c696077f",
   "metadata": {
    "scrolled": true
   },
   "outputs": [],
   "source": []
  },
  {
   "cell_type": "code",
   "execution_count": null,
   "id": "a6bcfa1d",
   "metadata": {},
   "outputs": [],
   "source": []
  },
  {
   "cell_type": "code",
   "execution_count": null,
   "id": "574208b6",
   "metadata": {},
   "outputs": [],
   "source": []
  },
  {
   "cell_type": "code",
   "execution_count": null,
   "id": "faa6bf41",
   "metadata": {},
   "outputs": [],
   "source": []
  },
  {
   "cell_type": "code",
   "execution_count": null,
   "id": "d6887416",
   "metadata": {},
   "outputs": [],
   "source": []
  },
  {
   "cell_type": "code",
   "execution_count": null,
   "id": "414eeacd",
   "metadata": {},
   "outputs": [],
   "source": []
  }
 ],
 "metadata": {
  "kernelspec": {
   "display_name": "Python 3 (ipykernel)",
   "language": "python",
   "name": "python3"
  },
  "language_info": {
   "codemirror_mode": {
    "name": "ipython",
    "version": 3
   },
   "file_extension": ".py",
   "mimetype": "text/x-python",
   "name": "python",
   "nbconvert_exporter": "python",
   "pygments_lexer": "ipython3",
   "version": "3.9.13"
  }
 },
 "nbformat": 4,
 "nbformat_minor": 5
}
