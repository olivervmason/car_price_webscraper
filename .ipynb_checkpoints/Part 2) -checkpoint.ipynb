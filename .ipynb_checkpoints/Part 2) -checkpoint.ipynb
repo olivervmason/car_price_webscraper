{
 "cells": [
  {
   "cell_type": "code",
   "execution_count": 1,
   "id": "43944e1f-eae5-4a28-a94d-f018e5c77fdc",
   "metadata": {},
   "outputs": [],
   "source": [
    "import pandas as pd\n",
    "from bs4 import BeautifulSoup\n",
    "import requests\n",
    "import time\n",
    "import csv"
   ]
  },
  {
   "cell_type": "code",
   "execution_count": 2,
   "id": "6c13b492-ad19-455c-9246-dbb602ede8bc",
   "metadata": {},
   "outputs": [],
   "source": [
    "with open('TMdownload.html') as html_file:\n",
    "    soup = BeautifulSoup(html_file, 'lxml')"
   ]
  },
  {
   "cell_type": "code",
   "execution_count": 3,
   "id": "5ca4fcc6-bff4-4fde-9b13-7d6fc2760a5c",
   "metadata": {},
   "outputs": [],
   "source": [
    "listing = soup.find('div', class_=\"tm-motors-search-card__details\")\n",
    "listing_id = listing.find('div', tmid=\"location\").get('id')\n",
    "location = listing.find('div', tmid=\"location\").text\n",
    "title = listing.find('div', tmid=\"title\").text\n",
    "model_detail = listing.find('div', tmid=\"modelDetail\").text\n",
    "sub_title = listing.find('div', tmid=\"subtitle\").text\n",
    "mileage = listing.find('span', tmid=\"odometer\").text\n",
    "engine_details = listing.find('span', tmid=\"engineDetails\").text\n",
    "asking_price = listing.find('span', class_=\"tm-motors-search-card__price\").text\n",
    "sale_type = listing.find('div', class_=\"tm-motors-search-card__asking-price ng-star-inserted\")"
   ]
  },
  {
   "cell_type": "code",
   "execution_count": 4,
   "id": "5fa8e4e1-23db-458b-a7ed-cc16a7b63535",
   "metadata": {},
   "outputs": [],
   "source": [
    "# Check on one row\n",
    "# print(listing_id, location, title, model_detail, sub_title, mileage, engine_details, asking_price, sale_type)"
   ]
  },
  {
   "cell_type": "code",
   "execution_count": 12,
   "id": "8f6f75e5-282f-4cd3-8674-88e4e999dc56",
   "metadata": {},
   "outputs": [],
   "source": [
    "import csv\n",
    "\n",
    "# 'Open' csv file to hold results in write mode: \n",
    "csv_file = open('csv_files/final_data.tsv', 'w')\n",
    "\n",
    "# Create the csv writer:\n",
    "csv_writer = csv.writer(csv_file, delimiter='\\t')\n",
    "\n",
    "# Create column headings in csv file:\n",
    "csv_writer.writerow(['location', 'title'])\n",
    "# csv_writer.writerow(['listing_id', 'location', 'title', 'model_detail', 'engine_details', 'asking_price', 'sale_type'])\n",
    "\n",
    "# Close csv file:\n",
    "csv_file.close()"
   ]
  },
  {
   "cell_type": "code",
   "execution_count": 32,
   "id": "612fddd4",
   "metadata": {},
   "outputs": [
    {
     "ename": "IndentationError",
     "evalue": "expected an indented block (476149390.py, line 2)",
     "output_type": "error",
     "traceback": [
      "\u001b[0;36m  Input \u001b[0;32mIn [32]\u001b[0;36m\u001b[0m\n\u001b[0;31m    with open('csv_files/final_data.tsv', 'r'):\u001b[0m\n\u001b[0m                                               ^\u001b[0m\n\u001b[0;31mIndentationError\u001b[0m\u001b[0;31m:\u001b[0m expected an indented block\n"
     ]
    }
   ],
   "source": [
    "# csv_file = open('csv_files/final_data.tsv', 'r')\n",
    "with open('csv_files/final_data.tsv', 'r'):"
   ]
  },
  {
   "cell_type": "code",
   "execution_count": 30,
   "id": "ed1fe433-f0ef-4c79-a275-4de3a723ad20",
   "metadata": {},
   "outputs": [
    {
     "name": "stdout",
     "output_type": "stream",
     "text": [
      " Katikati, Bay of Plenty   2011 Subaru Outback \n",
      "1/22\n"
     ]
    },
    {
     "ename": "ValueError",
     "evalue": "I/O operation on closed file.",
     "output_type": "error",
     "traceback": [
      "\u001b[0;31m---------------------------------------------------------------------------\u001b[0m",
      "\u001b[0;31mValueError\u001b[0m                                Traceback (most recent call last)",
      "Input \u001b[0;32mIn [30]\u001b[0m, in \u001b[0;36m<cell line: 2>\u001b[0;34m()\u001b[0m\n\u001b[1;32m     16\u001b[0m \u001b[38;5;28mprint\u001b[39m(location, title)\n\u001b[1;32m     17\u001b[0m \u001b[38;5;28mprint\u001b[39m(\u001b[38;5;124mf\u001b[39m\u001b[38;5;124m'\u001b[39m\u001b[38;5;132;01m{\u001b[39;00mi\u001b[38;5;132;01m}\u001b[39;00m\u001b[38;5;124m/22\u001b[39m\u001b[38;5;124m'\u001b[39m)\n\u001b[0;32m---> 18\u001b[0m \u001b[43mcsv_writer\u001b[49m\u001b[38;5;241;43m.\u001b[39;49m\u001b[43mwriterow\u001b[49m\u001b[43m(\u001b[49m\u001b[43m[\u001b[49m\u001b[43mlocation\u001b[49m\u001b[43m,\u001b[49m\u001b[43m \u001b[49m\u001b[43mtitle\u001b[49m\u001b[43m]\u001b[49m\u001b[43m)\u001b[49m\n\u001b[1;32m     19\u001b[0m i \u001b[38;5;241m+\u001b[39m\u001b[38;5;241m=\u001b[39m \u001b[38;5;241m1\u001b[39m\n\u001b[1;32m     20\u001b[0m sleep(\u001b[38;5;241m5\u001b[39m)\n",
      "\u001b[0;31mValueError\u001b[0m: I/O operation on closed file."
     ]
    }
   ],
   "source": [
    "i = 1\n",
    "for item in soup.find_all('div', class_=\"tm-motors-search-card__details\"):\n",
    "#     try:\n",
    "#         listing = soup.find('div', class_=\"tm-motors-search-card__details\")\n",
    "#         listing_id = item.find('div', tmid=\"location\").get('id')\n",
    "        location = item.find('div', tmid=\"location\").text\n",
    "        title = item.find('div', tmid=\"title\").text\n",
    "#         model_detail = item.find('div', tmid=\"modelDetail\").text\n",
    "#         sub_title = item.find('div', tmid=\"subtitle\").text\n",
    "#         mileage = item.find('span', tmid=\"odometer\").text\n",
    "#         engine_details = item.find('span', tmid=\"engineDetails\").text\n",
    "#         asking_price = item.find('span', class_=\"tm-motors-search-card__price\").text\n",
    "#         sale_type = item.find('div', class_=\"tm-motors-search-card__asking-price ng-star-inserted\")\n",
    "#     except:\n",
    "#         model_detail = 'No model detail'\n",
    "        print(location, title)\n",
    "        print(f'{i}/22')\n",
    "        csv_writer.writerow([location, title])\n",
    "        i += 1\n",
    "        sleep(5)\n"
   ]
  },
  {
   "cell_type": "code",
   "execution_count": 25,
   "id": "f34494f6",
   "metadata": {},
   "outputs": [],
   "source": [
    "csv_file.close()"
   ]
  },
  {
   "cell_type": "code",
   "execution_count": null,
   "id": "4df6b4a6-db73-4b13-bbda-06ec854d71fb",
   "metadata": {},
   "outputs": [],
   "source": [
    "# pd.read_csv('csv_files/final_data.csv')"
   ]
  },
  {
   "cell_type": "code",
   "execution_count": 9,
   "id": "152262ca-dac4-4863-ad1c-b8acae8ba5e5",
   "metadata": {},
   "outputs": [
    {
     "ename": "ValueError",
     "evalue": "I/O operation on closed file.",
     "output_type": "error",
     "traceback": [
      "\u001b[0;31m---------------------------------------------------------------------------\u001b[0m",
      "\u001b[0;31mValueError\u001b[0m                                Traceback (most recent call last)",
      "Input \u001b[0;32mIn [9]\u001b[0m, in \u001b[0;36m<cell line: 2>\u001b[0;34m()\u001b[0m\n\u001b[1;32m      1\u001b[0m csv_file \u001b[38;5;241m=\u001b[39m \u001b[38;5;28mopen\u001b[39m(\u001b[38;5;124m'\u001b[39m\u001b[38;5;124mcsv_files/final_data.tsv\u001b[39m\u001b[38;5;124m'\u001b[39m, \u001b[38;5;124m'\u001b[39m\u001b[38;5;124mw\u001b[39m\u001b[38;5;124m'\u001b[39m)\n\u001b[0;32m----> 2\u001b[0m \u001b[43mcsv_writer\u001b[49m\u001b[38;5;241;43m.\u001b[39;49m\u001b[43mwriterow\u001b[49m\u001b[43m(\u001b[49m\u001b[43m[\u001b[49m\u001b[38;5;124;43m'\u001b[39;49m\u001b[38;5;124;43mAuckland\u001b[39;49m\u001b[38;5;124;43m'\u001b[39;49m\u001b[43m,\u001b[49m\u001b[43m \u001b[49m\u001b[38;5;124;43m'\u001b[39;49m\u001b[38;5;124;43mSubaru\u001b[39;49m\u001b[38;5;124;43m'\u001b[39;49m\u001b[43m]\u001b[49m\u001b[43m)\u001b[49m\n",
      "\u001b[0;31mValueError\u001b[0m: I/O operation on closed file."
     ]
    }
   ],
   "source": [
    "csv_file = open('csv_files/final_data.tsv', 'w')\n",
    "csv_writer.writerow(['Auckland', 'Subaru'])"
   ]
  },
  {
   "cell_type": "code",
   "execution_count": null,
   "id": "e843c2bd",
   "metadata": {},
   "outputs": [],
   "source": []
  }
 ],
 "metadata": {
  "kernelspec": {
   "display_name": "Python 3 (ipykernel)",
   "language": "python",
   "name": "python3"
  },
  "language_info": {
   "codemirror_mode": {
    "name": "ipython",
    "version": 3
   },
   "file_extension": ".py",
   "mimetype": "text/x-python",
   "name": "python",
   "nbconvert_exporter": "python",
   "pygments_lexer": "ipython3",
   "version": "3.9.12"
  }
 },
 "nbformat": 4,
 "nbformat_minor": 5
}
