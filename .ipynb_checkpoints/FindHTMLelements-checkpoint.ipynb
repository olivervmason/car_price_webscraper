{
 "cells": [
  {
   "cell_type": "markdown",
   "id": "acf9e91c-c5a9-477b-a3c4-390acc0150df",
   "metadata": {},
   "source": [
    "# Get listing data"
   ]
  },
  {
   "cell_type": "code",
   "execution_count": 1,
   "id": "a6fc13af-1bd1-4d67-87ae-34444ffd848f",
   "metadata": {},
   "outputs": [],
   "source": [
    "import pandas as pd\n",
    "from bs4 import BeautifulSoup\n",
    "import requests\n",
    "import time"
   ]
  },
  {
   "cell_type": "code",
   "execution_count": 2,
   "id": "ef4e4e08-5a0e-4d22-9643-413dd528ca7a",
   "metadata": {},
   "outputs": [],
   "source": [
    "with open('TMdownload.html') as html_file:\n",
    "    soup = BeautifulSoup(html_file, 'lxml')\n",
    "\n",
    "# print(soup.prettify)"
   ]
  },
  {
   "cell_type": "code",
   "execution_count": 3,
   "id": "85e1f22a",
   "metadata": {},
   "outputs": [],
   "source": [
    "listing = soup.find('div', class_=\"tm-motors-search-card__details\")"
   ]
  },
  {
   "cell_type": "code",
   "execution_count": 4,
   "id": "6c8a2058",
   "metadata": {},
   "outputs": [],
   "source": [
    "# print(listing1.prettify())"
   ]
  },
  {
   "cell_type": "code",
   "execution_count": 5,
   "id": "a0d85335",
   "metadata": {},
   "outputs": [
    {
     "data": {
      "text/plain": [
       "'1668009314432-3855332524-location'"
      ]
     },
     "execution_count": 5,
     "metadata": {},
     "output_type": "execute_result"
    }
   ],
   "source": [
    "listing_id = listing.find('div', tmid=\"location\").get('id')\n",
    "listing_id"
   ]
  },
  {
   "cell_type": "code",
   "execution_count": 6,
   "id": "c6940b95",
   "metadata": {},
   "outputs": [
    {
     "data": {
      "text/plain": [
       "' Katikati, Bay of Plenty '"
      ]
     },
     "execution_count": 6,
     "metadata": {},
     "output_type": "execute_result"
    }
   ],
   "source": [
    "location = listing.find('div', tmid=\"location\").text\n",
    "location"
   ]
  },
  {
   "cell_type": "code",
   "execution_count": 7,
   "id": "42b8659f",
   "metadata": {},
   "outputs": [
    {
     "data": {
      "text/plain": [
       "' 2011 Subaru Outback '"
      ]
     },
     "execution_count": 7,
     "metadata": {},
     "output_type": "execute_result"
    }
   ],
   "source": [
    "title = listing.find('div', tmid=\"title\").text\n",
    "title"
   ]
  },
  {
   "cell_type": "code",
   "execution_count": 8,
   "id": "5d26df02",
   "metadata": {},
   "outputs": [
    {
     "data": {
      "text/plain": [
       "' 25I Premium '"
      ]
     },
     "execution_count": 8,
     "metadata": {},
     "output_type": "execute_result"
    }
   ],
   "source": [
    "model_detail = listing.find('div', tmid=\"modelDetail\").text\n",
    "model_detail"
   ]
  },
  {
   "cell_type": "code",
   "execution_count": 9,
   "id": "d93a6199",
   "metadata": {},
   "outputs": [
    {
     "data": {
      "text/plain": [
       "' LEATHER SEATS, ROOF RACK, TOW BAR & SUN ROOF '"
      ]
     },
     "execution_count": 9,
     "metadata": {},
     "output_type": "execute_result"
    }
   ],
   "source": [
    "sub_title = listing.find('div', tmid=\"subtitle\").text\n",
    "sub_title"
   ]
  },
  {
   "cell_type": "code",
   "execution_count": 10,
   "id": "6ba1e6a9",
   "metadata": {},
   "outputs": [
    {
     "data": {
      "text/plain": [
       "' 210,500km '"
      ]
     },
     "execution_count": 10,
     "metadata": {},
     "output_type": "execute_result"
    }
   ],
   "source": [
    "engine_details = listing.find('span', tmid=\"odometer\").text\n",
    "engine_details"
   ]
  },
  {
   "cell_type": "code",
   "execution_count": 11,
   "id": "02277111",
   "metadata": {},
   "outputs": [
    {
     "data": {
      "text/plain": [
       "\"' 2457cc, Petrol, Automatic '\""
      ]
     },
     "execution_count": 11,
     "metadata": {},
     "output_type": "execute_result"
    }
   ],
   "source": [
    "engine_details = listing.find('span', tmid=\"engineDetails\").text\n",
    "repr(engine_details)"
   ]
  },
  {
   "cell_type": "code",
   "execution_count": 12,
   "id": "bd8d1b3a",
   "metadata": {},
   "outputs": [
    {
     "data": {
      "text/plain": [
       "' $8,250 '"
      ]
     },
     "execution_count": 12,
     "metadata": {},
     "output_type": "execute_result"
    }
   ],
   "source": [
    "asking_price = listing.find('span', class_=\"tm-motors-search-card__price\").text\n",
    "asking_price"
   ]
  },
  {
   "cell_type": "code",
   "execution_count": 13,
   "id": "c4b5f4d8",
   "metadata": {},
   "outputs": [
    {
     "data": {
      "text/plain": [
       "<div class=\"tm-motors-search-card__asking-price ng-star-inserted\"> Asking price <span class=\"tm-motors-search-card__price\"> $8,250 </span>\n",
       "<!-- -->\n",
       "</div>"
      ]
     },
     "execution_count": 13,
     "metadata": {},
     "output_type": "execute_result"
    }
   ],
   "source": [
    "sale_type = listing.find('div', class_=\"tm-motors-search-card__asking-price ng-star-inserted\")\n",
    "sale_type"
   ]
  },
  {
   "cell_type": "code",
   "execution_count": 14,
   "id": "7c9571cd",
   "metadata": {
    "code_folding": []
   },
   "outputs": [],
   "source": [
    "data = {'listing_id': listing_id,\n",
    "        'location': location,\n",
    "        'title': title,\n",
    "        'sub_title': sub_title,\n",
    "        'model_detail': model_detail,\n",
    "        'engine_details': engine_details,\n",
    "        'sale_type': sale_type,\n",
    "        'asking_price': asking_price\n",
    "       }"
   ]
  },
  {
   "cell_type": "code",
   "execution_count": 15,
   "id": "343b2b09",
   "metadata": {},
   "outputs": [
    {
     "data": {
      "text/plain": [
       "{'listing_id': '1668009314432-3855332524-location',\n",
       " 'location': ' Katikati, Bay of Plenty ',\n",
       " 'title': ' 2011 Subaru Outback ',\n",
       " 'sub_title': ' LEATHER SEATS, ROOF RACK, TOW BAR & SUN ROOF ',\n",
       " 'model_detail': ' 25I Premium ',\n",
       " 'engine_details': ' 2457cc, Petrol, Automatic ',\n",
       " 'sale_type': <div class=\"tm-motors-search-card__asking-price ng-star-inserted\"> Asking price <span class=\"tm-motors-search-card__price\"> $8,250 </span>\n",
       " <!-- -->\n",
       " </div>,\n",
       " 'asking_price': ' $8,250 '}"
      ]
     },
     "execution_count": 15,
     "metadata": {},
     "output_type": "execute_result"
    }
   ],
   "source": [
    "data"
   ]
  },
  {
   "cell_type": "code",
   "execution_count": 16,
   "id": "f4315f8a",
   "metadata": {},
   "outputs": [],
   "source": [
    "my_df  = pd.DataFrame(columns = ['listing_id', \n",
    "                                 'location', \n",
    "                                 'title',\n",
    "                                 'sub_title', \n",
    "                                 'model_detail',\n",
    "                                 'engine_details', \n",
    "                                 'sale_type', \n",
    "                                 'asking_price'])"
   ]
  },
  {
   "cell_type": "code",
   "execution_count": 17,
   "id": "f36af782",
   "metadata": {},
   "outputs": [
    {
     "data": {
      "text/html": [
       "<div>\n",
       "<style scoped>\n",
       "    .dataframe tbody tr th:only-of-type {\n",
       "        vertical-align: middle;\n",
       "    }\n",
       "\n",
       "    .dataframe tbody tr th {\n",
       "        vertical-align: top;\n",
       "    }\n",
       "\n",
       "    .dataframe thead th {\n",
       "        text-align: right;\n",
       "    }\n",
       "</style>\n",
       "<table border=\"1\" class=\"dataframe\">\n",
       "  <thead>\n",
       "    <tr style=\"text-align: right;\">\n",
       "      <th></th>\n",
       "      <th>listing_id</th>\n",
       "      <th>location</th>\n",
       "      <th>title</th>\n",
       "      <th>sub_title</th>\n",
       "      <th>model_detail</th>\n",
       "      <th>engine_details</th>\n",
       "      <th>sale_type</th>\n",
       "      <th>asking_price</th>\n",
       "    </tr>\n",
       "  </thead>\n",
       "  <tbody>\n",
       "  </tbody>\n",
       "</table>\n",
       "</div>"
      ],
      "text/plain": [
       "Empty DataFrame\n",
       "Columns: [listing_id, location, title, sub_title, model_detail, engine_details, sale_type, asking_price]\n",
       "Index: []"
      ]
     },
     "execution_count": 17,
     "metadata": {},
     "output_type": "execute_result"
    }
   ],
   "source": [
    "my_df"
   ]
  },
  {
   "cell_type": "code",
   "execution_count": 18,
   "id": "2bf14820",
   "metadata": {},
   "outputs": [],
   "source": [
    "insert_row = {\n",
    "        'listing_id': listing_id,\n",
    "        'location': location,\n",
    "        'title': title,\n",
    "        'sub_title': sub_title,\n",
    "        'model_detail': model_detail,\n",
    "        'engine_details': engine_details,\n",
    "        'sale_type': sale_type,\n",
    "        'asking_price': asking_price\n",
    "}\n",
    "\n",
    "my_df = pd.concat([my_df, pd.DataFrame([insert_row])])\n"
   ]
  },
  {
   "cell_type": "code",
   "execution_count": 19,
   "id": "667903df",
   "metadata": {},
   "outputs": [
    {
     "data": {
      "text/html": [
       "<div>\n",
       "<style scoped>\n",
       "    .dataframe tbody tr th:only-of-type {\n",
       "        vertical-align: middle;\n",
       "    }\n",
       "\n",
       "    .dataframe tbody tr th {\n",
       "        vertical-align: top;\n",
       "    }\n",
       "\n",
       "    .dataframe thead th {\n",
       "        text-align: right;\n",
       "    }\n",
       "</style>\n",
       "<table border=\"1\" class=\"dataframe\">\n",
       "  <thead>\n",
       "    <tr style=\"text-align: right;\">\n",
       "      <th></th>\n",
       "      <th>listing_id</th>\n",
       "      <th>location</th>\n",
       "      <th>title</th>\n",
       "      <th>sub_title</th>\n",
       "      <th>model_detail</th>\n",
       "      <th>engine_details</th>\n",
       "      <th>sale_type</th>\n",
       "      <th>asking_price</th>\n",
       "    </tr>\n",
       "  </thead>\n",
       "  <tbody>\n",
       "    <tr>\n",
       "      <th>0</th>\n",
       "      <td>1668009314432-3855332524-location</td>\n",
       "      <td>Katikati, Bay of Plenty</td>\n",
       "      <td>2011 Subaru Outback</td>\n",
       "      <td>LEATHER SEATS, ROOF RACK, TOW BAR &amp; SUN ROOF</td>\n",
       "      <td>25I Premium</td>\n",
       "      <td>2457cc, Petrol, Automatic</td>\n",
       "      <td>[ Asking price , [ $8,250 ], \\n,  , \\n]</td>\n",
       "      <td>$8,250</td>\n",
       "    </tr>\n",
       "  </tbody>\n",
       "</table>\n",
       "</div>"
      ],
      "text/plain": [
       "                          listing_id                   location  \\\n",
       "0  1668009314432-3855332524-location   Katikati, Bay of Plenty    \n",
       "\n",
       "                   title                                       sub_title  \\\n",
       "0   2011 Subaru Outback    LEATHER SEATS, ROOF RACK, TOW BAR & SUN ROOF    \n",
       "\n",
       "    model_detail               engine_details  \\\n",
       "0   25I Premium    2457cc, Petrol, Automatic    \n",
       "\n",
       "                                 sale_type asking_price  \n",
       "0  [ Asking price , [ $8,250 ], \\n,  , \\n]      $8,250   "
      ]
     },
     "execution_count": 19,
     "metadata": {},
     "output_type": "execute_result"
    }
   ],
   "source": [
    "my_df"
   ]
  },
  {
   "cell_type": "code",
   "execution_count": null,
   "id": "0604e3fe",
   "metadata": {},
   "outputs": [],
   "source": []
  }
 ],
 "metadata": {
  "kernelspec": {
   "display_name": "Python 3 (ipykernel)",
   "language": "python",
   "name": "python3"
  },
  "language_info": {
   "codemirror_mode": {
    "name": "ipython",
    "version": 3
   },
   "file_extension": ".py",
   "mimetype": "text/x-python",
   "name": "python",
   "nbconvert_exporter": "python",
   "pygments_lexer": "ipython3",
   "version": "3.9.12"
  }
 },
 "nbformat": 4,
 "nbformat_minor": 5
}
