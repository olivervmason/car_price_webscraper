{
 "cells": [
  {
   "cell_type": "markdown",
   "id": "e301742b-e8ad-4900-946e-3bf3647c8ffe",
   "metadata": {},
   "source": [
    "# Part 1 - Determine which brands require further analysis"
   ]
  },
  {
   "cell_type": "markdown",
   "id": "32825df2-22d3-471a-8d55-5a10460728ce",
   "metadata": {},
   "source": [
    "### Import the required packages"
   ]
  },
  {
   "cell_type": "code",
   "execution_count": 1,
   "id": "902c5347-4690-4480-b389-7c7501041abe",
   "metadata": {},
   "outputs": [],
   "source": [
    "import pandas as pd\n",
    "from bs4 import BeautifulSoup\n",
    "import requests\n",
    "import time"
   ]
  },
  {
   "cell_type": "markdown",
   "id": "763fb894-b4f9-4389-aca7-29ebad99c360",
   "metadata": {},
   "source": [
    "### Import list of car manufacturers listed on TradeMe:\n",
    "\n",
    "This list was created from copying the inner html element of the dropdown menu on the TradeMe website, removing the surrounding code, and saving to a .csv file.\n",
    "Only small changes were needed to formatting, e.g. 'Aston Martin' became 'Aston-Martin'."
   ]
  },
  {
   "cell_type": "code",
   "execution_count": 2,
   "id": "56c54fbc-2879-43b6-9a46-9b0a40e60f43",
   "metadata": {},
   "outputs": [],
   "source": [
    "car_makes_df = pd.read_csv('csv_files/CarManufacturers.csv')"
   ]
  },
  {
   "cell_type": "markdown",
   "id": "17ae1b71-897b-4578-ae11-b245a11ff6d6",
   "metadata": {},
   "source": [
    "### Check list of manufacturers:"
   ]
  },
  {
   "cell_type": "code",
   "execution_count": 3,
   "id": "70176519-ac0c-4bb5-86f2-540f4f74abfb",
   "metadata": {},
   "outputs": [
    {
     "data": {
      "text/html": [
       "<div>\n",
       "<style scoped>\n",
       "    .dataframe tbody tr th:only-of-type {\n",
       "        vertical-align: middle;\n",
       "    }\n",
       "\n",
       "    .dataframe tbody tr th {\n",
       "        vertical-align: top;\n",
       "    }\n",
       "\n",
       "    .dataframe thead th {\n",
       "        text-align: right;\n",
       "    }\n",
       "</style>\n",
       "<table border=\"1\" class=\"dataframe\">\n",
       "  <thead>\n",
       "    <tr style=\"text-align: right;\">\n",
       "      <th></th>\n",
       "      <th>Make</th>\n",
       "    </tr>\n",
       "  </thead>\n",
       "  <tbody>\n",
       "    <tr>\n",
       "      <th>0</th>\n",
       "      <td>Alfa-Romeo</td>\n",
       "    </tr>\n",
       "    <tr>\n",
       "      <th>1</th>\n",
       "      <td>Aston-Martin</td>\n",
       "    </tr>\n",
       "    <tr>\n",
       "      <th>2</th>\n",
       "      <td>Audi</td>\n",
       "    </tr>\n",
       "    <tr>\n",
       "      <th>3</th>\n",
       "      <td>Austin</td>\n",
       "    </tr>\n",
       "    <tr>\n",
       "      <th>4</th>\n",
       "      <td>Bentley</td>\n",
       "    </tr>\n",
       "  </tbody>\n",
       "</table>\n",
       "</div>"
      ],
      "text/plain": [
       "           Make\n",
       "0    Alfa-Romeo\n",
       "1  Aston-Martin\n",
       "2          Audi\n",
       "3        Austin\n",
       "4       Bentley"
      ]
     },
     "execution_count": 3,
     "metadata": {},
     "output_type": "execute_result"
    }
   ],
   "source": [
    "car_makes_df.head()"
   ]
  },
  {
   "cell_type": "markdown",
   "id": "9267d544-4459-411a-ad9e-b83bede1016c",
   "metadata": {},
   "source": [
    "### Create list of URL addresses to retrieve listing data from, using the list of manufacturers above."
   ]
  },
  {
   "cell_type": "code",
   "execution_count": 4,
   "id": "1addb072",
   "metadata": {},
   "outputs": [],
   "source": [
    "# Head URL common to all:\n",
    "url = f'https://www.trademe.co.nz/a/motors/cars/'\n",
    "\n",
    "# Empty list to hold final result\n",
    "url_list = []\n",
    "\n",
    "# Loop to concatenate head URL with manufactuerer name and add result to the url_list\n",
    "for make in car_makes_df['Make']:\n",
    "    url_list.append(url+make)"
   ]
  },
  {
   "cell_type": "code",
   "execution_count": 5,
   "id": "653775a2-1e93-4e0d-b3aa-3e04a089eff2",
   "metadata": {},
   "outputs": [
    {
     "name": "stdout",
     "output_type": "stream",
     "text": [
      "['https://www.trademe.co.nz/a/motors/cars/Alfa-Romeo', 'https://www.trademe.co.nz/a/motors/cars/Aston-Martin', 'https://www.trademe.co.nz/a/motors/cars/Audi']\n"
     ]
    }
   ],
   "source": [
    "# Check result on first three items in list:\n",
    "print(url_list[0:3])"
   ]
  },
  {
   "cell_type": "markdown",
   "id": "13008b5e-d404-4565-97bd-37c4da79720e",
   "metadata": {},
   "source": [
    "### Create empty dictionary to hold results from webscraper"
   ]
  },
  {
   "cell_type": "code",
   "execution_count": 6,
   "id": "46ab3033-6757-47ed-9e4b-116c6037d696",
   "metadata": {},
   "outputs": [],
   "source": [
    "results = {}"
   ]
  },
  {
   "cell_type": "markdown",
   "id": "e54a6493-c5b3-4ffa-bfe8-54fca73a871f",
   "metadata": {
    "tags": []
   },
   "source": [
    "### Create loop to search each URL from the list, retrieve the number of listings based on the `<div>` class, and save the result to the results dictionary"
   ]
  },
  {
   "cell_type": "code",
   "execution_count": 7,
   "id": "f52dfc21",
   "metadata": {},
   "outputs": [
    {
     "name": "stdout",
     "output_type": "stream",
     "text": [
      "Alfa-Romeo :  Showing 136 results\n",
      "\n",
      "Aston-Martin :  Showing 42 results\n",
      "\n",
      "Audi :  Showing 2,837 results\n",
      "\n",
      "Austin: Error\n",
      "Bentley :  Showing 57 results\n",
      "\n",
      "BMW :  Showing 3,951 results\n",
      "\n",
      "BYD :  Showing 32 results\n",
      "\n",
      "Cadillac :  Showing 42 results\n",
      "\n",
      "Chery :  Showing 9 results\n",
      "\n",
      "Chevrolet :  Showing 415 results\n",
      "\n",
      "Chrysler :  Showing 172 results\n",
      "\n",
      "Citroen :  Showing 154 results\n",
      "\n",
      "Cupra :  Showing 44 results\n",
      "\n",
      "Daewoo :  Showing 1 result\n",
      "\n",
      "Daihatsu :  Showing 113 results\n",
      "\n",
      "Daimler :  Showing 14 results\n",
      "\n",
      "Dodge :  Showing 257 results\n",
      "\n",
      "DS-Automobiles :  Showing 0 results\n",
      "\n",
      "Ferrari :  Showing 33 results\n",
      "\n",
      "Fiat :  Showing 132 results\n",
      "\n",
      "Ford :  Showing 4,603 results\n",
      "\n",
      "Foton :  Showing 40 results\n",
      "\n",
      "Geely :  Showing 0 results\n",
      "\n",
      "GMC :  Showing 45 results\n",
      "\n",
      "GWM :  Showing 242 results\n",
      "\n",
      "HAVAL :  Showing 389 results\n",
      "\n",
      "Holden :  Showing 3,631 results\n",
      "\n",
      "Honda :  Showing 2,930 results\n",
      "\n",
      "Hummer :  Showing 9 results\n",
      "\n",
      "Hyundai :  Showing 2,224 results\n",
      "\n",
      "INFINITI :  Showing 17 results\n",
      "\n",
      "Isuzu :  Showing 666 results\n",
      "\n",
      "Iveco :  Showing 4 results\n",
      "\n",
      "Jaguar :  Showing 560 results\n",
      "\n",
      "Jeep :  Showing 821 results\n",
      "\n",
      "Kia :  Showing 1,817 results\n",
      "\n",
      "Lamborghini :  Showing 15 results\n",
      "\n",
      "Lancia :  Showing 1 result\n",
      "\n",
      "Land-Rover :  Showing 953 results\n",
      "\n",
      "LDV :  Showing 361 results\n",
      "\n",
      "Lexus :  Showing 1,029 results\n",
      "\n",
      "Lotus :  Showing 21 results\n",
      "\n",
      "Mahindra :  Showing 40 results\n",
      "\n",
      "Maserati :  Showing 105 results\n",
      "\n",
      "Mazda :  Showing 6,755 results\n",
      "\n",
      "McLaren :  Showing 18 results\n",
      "\n",
      "Mercedes-Benz :  Showing 2,637 results\n",
      "\n",
      "MG :  Showing 343 results\n",
      "\n",
      "MINI :  Showing 735 results\n",
      "\n",
      "Mitsubishi :  Showing 4,244 results\n",
      "\n",
      "Morgan :  Showing 6 results\n",
      "\n",
      "Morris :  Showing 49 results\n",
      "\n",
      "Nissan :  Showing 7,320 results\n",
      "\n",
      "Opel :  Showing 17 results\n",
      "\n",
      "Peugeot :  Showing 576 results\n",
      "\n",
      "Polestar :  Showing 10 results\n",
      "\n",
      "Pontiac :  Showing 35 results\n",
      "\n",
      "Porsche :  Showing 406 results\n",
      "\n",
      "Ram :  Showing 80 results\n",
      "\n",
      "Renault :  Showing 280 results\n",
      "\n",
      "Riley :  Showing 5 results\n",
      "\n",
      "Rolls-Royce :  Showing 15 results\n",
      "\n",
      "Rover :  Showing 23 results\n",
      "\n",
      "Saab :  Showing 13 results\n",
      "\n",
      "SEAT :  Showing 29 results\n",
      "\n",
      "Skoda :  Showing 501 results\n",
      "\n",
      "Smart: Error\n",
      "Ssangyong :  Showing 525 results\n",
      "\n",
      "Subaru :  Showing 3,450 results\n",
      "\n",
      "Suzuki :  Showing 2,097 results\n",
      "\n",
      "Tesla :  Showing 127 results\n",
      "\n",
      "Toyota :  Showing 15,228 results\n",
      "\n",
      "Triumph :  Showing 21 results\n",
      "\n",
      "TVR :  Showing 5 results\n",
      "\n",
      "Vauxhall :  Showing 17 results\n",
      "\n",
      "Volkswagen :  Showing 3,328 results\n",
      "\n",
      "Volvo :  Showing 592 results\n",
      "\n",
      "Other :  Showing 100 results\n",
      "\n"
     ]
    }
   ],
   "source": [
    "for url in url_list:\n",
    "    # Create variable for brand name based on URL ending, Set source of data\n",
    "    brand = url[40:] \n",
    "    source = requests.get(url).text\n",
    "    # Parse source data\n",
    "    soup = BeautifulSoup(source, 'lxml')\n",
    "    # Search source for div class identified:\n",
    "    match = soup.find('div', class_=\"tm-motors-search-results__sort-and-view-options\")\n",
    "    h3 = soup.find('h3')\n",
    "    # Print results to terminal and save result to the dictionary created above \n",
    "    try:\n",
    "        print(brand + \" : \" + h3.text)\n",
    "        results.update({brand: h3.text})\n",
    "    except:\n",
    "        print(brand + ': Error')\n",
    "        results.update({brand: 'Error'})\n",
    "    # Pause, to avoid spamming TradeMe server\n",
    "    time.sleep(3.5)"
   ]
  },
  {
   "cell_type": "markdown",
   "id": "582d8503-963d-4a1e-aec9-b77357906b53",
   "metadata": {},
   "source": [
    "### Create a dataframe with the listing count, from the dictionary created by the loop above."
   ]
  },
  {
   "cell_type": "code",
   "execution_count": 8,
   "id": "1ccb8216-4d8a-4322-9232-08b167159256",
   "metadata": {},
   "outputs": [],
   "source": [
    "count_listings_df = pd.DataFrame.from_dict(results, orient='index')"
   ]
  },
  {
   "cell_type": "code",
   "execution_count": 9,
   "id": "c7f5d709-6643-4c40-afbe-35f37f4af524",
   "metadata": {},
   "outputs": [],
   "source": [
    "count_listings_df.columns = ['Results']"
   ]
  },
  {
   "cell_type": "markdown",
   "id": "4583398c-0656-4ebc-b920-ee2fd49fb506",
   "metadata": {},
   "source": [
    "### Check result:"
   ]
  },
  {
   "cell_type": "code",
   "execution_count": 10,
   "id": "6030a8e3-88cd-469b-9a66-02dd2d3d645d",
   "metadata": {},
   "outputs": [
    {
     "data": {
      "text/html": [
       "<div>\n",
       "<style scoped>\n",
       "    .dataframe tbody tr th:only-of-type {\n",
       "        vertical-align: middle;\n",
       "    }\n",
       "\n",
       "    .dataframe tbody tr th {\n",
       "        vertical-align: top;\n",
       "    }\n",
       "\n",
       "    .dataframe thead th {\n",
       "        text-align: right;\n",
       "    }\n",
       "</style>\n",
       "<table border=\"1\" class=\"dataframe\">\n",
       "  <thead>\n",
       "    <tr style=\"text-align: right;\">\n",
       "      <th></th>\n",
       "      <th>Results</th>\n",
       "    </tr>\n",
       "  </thead>\n",
       "  <tbody>\n",
       "    <tr>\n",
       "      <th>Alfa-Romeo</th>\n",
       "      <td>Showing 136 results\\n</td>\n",
       "    </tr>\n",
       "    <tr>\n",
       "      <th>Aston-Martin</th>\n",
       "      <td>Showing 42 results\\n</td>\n",
       "    </tr>\n",
       "    <tr>\n",
       "      <th>Audi</th>\n",
       "      <td>Showing 2,837 results\\n</td>\n",
       "    </tr>\n",
       "    <tr>\n",
       "      <th>Austin</th>\n",
       "      <td>Error</td>\n",
       "    </tr>\n",
       "    <tr>\n",
       "      <th>Bentley</th>\n",
       "      <td>Showing 57 results\\n</td>\n",
       "    </tr>\n",
       "  </tbody>\n",
       "</table>\n",
       "</div>"
      ],
      "text/plain": [
       "                               Results\n",
       "Alfa-Romeo       Showing 136 results\\n\n",
       "Aston-Martin      Showing 42 results\\n\n",
       "Audi           Showing 2,837 results\\n\n",
       "Austin                           Error\n",
       "Bentley           Showing 57 results\\n"
      ]
     },
     "execution_count": 10,
     "metadata": {},
     "output_type": "execute_result"
    }
   ],
   "source": [
    "count_listings_df.head()"
   ]
  },
  {
   "cell_type": "markdown",
   "id": "dc721857-2b31-4090-93c5-4a3e308a8559",
   "metadata": {},
   "source": [
    "### Save the result to a .csv file for safekeeping:"
   ]
  },
  {
   "cell_type": "code",
   "execution_count": 12,
   "id": "109011c6",
   "metadata": {},
   "outputs": [],
   "source": [
    "count_listings_df.to_csv('csv_files/brand_results.csv')"
   ]
  }
 ],
 "metadata": {
  "kernelspec": {
   "display_name": "Python 3 (ipykernel)",
   "language": "python",
   "name": "python3"
  },
  "language_info": {
   "codemirror_mode": {
    "name": "ipython",
    "version": 3
   },
   "file_extension": ".py",
   "mimetype": "text/x-python",
   "name": "python",
   "nbconvert_exporter": "python",
   "pygments_lexer": "ipython3",
   "version": "3.9.12"
  },
  "vscode": {
   "interpreter": {
    "hash": "f45ebf2a801f55c914e5d04dd859f0a7608657f9bbbd59759f28d45b308cf7fe"
   }
  }
 },
 "nbformat": 4,
 "nbformat_minor": 5
}
