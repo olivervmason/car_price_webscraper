{
 "cells": [
  {
   "cell_type": "markdown",
   "id": "e301742b-e8ad-4900-946e-3bf3647c8ffe",
   "metadata": {},
   "source": [
    "# Part 2 - Scrape TradeMe motors for data on listings for key brands"
   ]
  },
  {
   "cell_type": "markdown",
   "id": "32825df2-22d3-471a-8d55-5a10460728ce",
   "metadata": {},
   "source": [
    "### Import the required packages"
   ]
  },
  {
   "cell_type": "code",
   "execution_count": 1,
   "id": "902c5347-4690-4480-b389-7c7501041abe",
   "metadata": {},
   "outputs": [],
   "source": [
    "import pandas as pd\n",
    "from bs4 import BeautifulSoup\n",
    "import requests\n",
    "import csv\n",
    "import time"
   ]
  },
  {
   "cell_type": "markdown",
   "id": "9267d544-4459-411a-ad9e-b83bede1016c",
   "metadata": {},
   "source": [
    "### Create list of URL addresses to retrieve listing data from, using the list of manufacturers above.\n",
    "\n",
    "This script will be only need to be run once for each manufacturer, with the only necessary changes being:\n",
    "\n",
    "- Updating the name of the brand being seached\n",
    "\n",
    "- Specifying the number of pages of listings to be searched. As the data is live, this was done manually by reviewing the search results in the browser; the last full page being deliberately omitted to avoid errors in scraping non-existent pages."
   ]
  },
  {
   "cell_type": "code",
   "execution_count": 2,
   "id": "1addb072",
   "metadata": {},
   "outputs": [
    {
     "name": "stdout",
     "output_type": "stream",
     "text": [
      "['https://www.trademe.co.nz/a/motors/cars/toyota?page=1', 'https://www.trademe.co.nz/a/motors/cars/toyota?page=2', 'https://www.trademe.co.nz/a/motors/cars/toyota?page=3', 'https://www.trademe.co.nz/a/motors/cars/toyota?page=4', 'https://www.trademe.co.nz/a/motors/cars/toyota?page=5']\n"
     ]
    }
   ],
   "source": [
    "# Brand being searched:\n",
    "brand = \"toyota\"\n",
    "\n",
    "# Empty list to hold full set of urls:\n",
    "url_list = []\n",
    "\n",
    "# Format of URL search is: \"https://www.trademe.co.nz/a/motors/cars/bmw?page=2\"\n",
    "\n",
    "# Loop creating url's to be searched:\n",
    "for page in range (1, 672):\n",
    "    url = f\"https://www.trademe.co.nz/a/motors/cars/{brand}?page={page}\"\n",
    "    url_list.append(url)\n",
    "\n",
    "# Check first 5 results\n",
    "print(url_list[0:5])"
   ]
  },
  {
   "cell_type": "markdown",
   "id": "e54a6493-c5b3-4ffa-bfe8-54fca73a871f",
   "metadata": {
    "tags": []
   },
   "source": [
    "### Create csv file to store results "
   ]
  },
  {
   "cell_type": "code",
   "execution_count": 3,
   "id": "2159fc57",
   "metadata": {},
   "outputs": [],
   "source": [
    "with open(f'csv_files/{brand}.tsv', 'a', newline='') as csvfile:\n",
    "\n",
    "    fieldnames = ['listing_id', 'location', 'title', 'sub_title', 'mileage', 'engine_details', 'asking_price', 'vendor', 'sale_type']\n",
    "    # fieldnames = ['listing_id', 'title']\n",
    "    writer = csv.DictWriter(csvfile, fieldnames=fieldnames, delimiter='\\t')\n",
    "    \n",
    "    writer.writeheader()"
   ]
  },
  {
   "cell_type": "markdown",
   "id": "776f6e75",
   "metadata": {},
   "source": [
    "### Create loop to extract data for each page of results for brand"
   ]
  },
  {
   "cell_type": "code",
   "execution_count": 4,
   "id": "0307f9db",
   "metadata": {},
   "outputs": [],
   "source": [
    "for url in url_list:\n",
    "\n",
    "    time.sleep(3)\n",
    "\n",
    "    # Set source\n",
    "    source = requests.get(url).text\n",
    "\n",
    "    # Parse source data\n",
    "    soup = BeautifulSoup(source, 'lxml')\n",
    "\n",
    "    # Define parent <div> in soup page to be searched; and create loop:\n",
    "    for item in soup.find_all('div', class_=\"tm-motors-search-card__wrapper ng-star-inserted\"):\n",
    "\n",
    "        # Set variable names\n",
    "        try:\n",
    "            listing_id = item.find('div', tmid=\"location\").get('id')\n",
    "        except:\n",
    "            listing_id = \"listing_id missing\"\n",
    "        \n",
    "        try:          \n",
    "            location = item.find('div', tmid=\"location\").text.strip()\n",
    "        except: \n",
    "            location = \"location missing\"\n",
    "\n",
    "        try:\n",
    "            title = item.find('div', tmid=\"title\").text.strip()\n",
    "        except:\n",
    "            title = \"title missing\"\n",
    "\n",
    "        try:\n",
    "            sub_title = item.find('div', tmid=\"subtitle\").text\n",
    "        except:\n",
    "            sub_title = \"sub_title missing\"\n",
    "\n",
    "        try:\n",
    "            mileage = item.find('span', tmid=\"odometer\").text.strip()\n",
    "        except:\n",
    "            mileage = \"mileage missing\"\n",
    "\n",
    "        try:\n",
    "            engine_details = item.find('span', tmid=\"engineDetails\").text.strip()\n",
    "        except:\n",
    "            engine_details = \"engine_details missing\"\n",
    "\n",
    "        try:\n",
    "            asking_price = item.find('span', class_=\"tm-motors-search-card__price\").text.strip()\n",
    "        except:\n",
    "            asking_price = \"asking_price missing\"\n",
    "\n",
    "        try:\n",
    "            vendor = item.find('div', tmid=\"dealer\").div.text\n",
    "        except:\n",
    "            vendor = \"vendor missing\"\n",
    "\n",
    "        try:\n",
    "            sale_type = item.find('div', class_=\"tm-motors-search-card__asking-price ng-star-inserted\").text.strip()\n",
    "        except:\n",
    "            sale_type = \"sale_type missing\"\n",
    "\n",
    "        # Append data a (write data w, read data r)\n",
    "        with open(f'csv_files/{brand}.tsv', 'a', newline='') as csvfile:\n",
    "\n",
    "            writer = csv.DictWriter(csvfile, fieldnames=fieldnames, delimiter='\\t')\n",
    "            \n",
    "            writer.writerow({'listing_id': listing_id, \n",
    "                            'location': location, \n",
    "                            'title': title,  \n",
    "                            'sub_title': sub_title, \n",
    "                            'mileage': mileage, \n",
    "                            'engine_details': engine_details, \n",
    "                            'asking_price': asking_price,\n",
    "                            'vendor': vendor, \n",
    "                            'sale_type': sale_type})"
   ]
  }
 ],
 "metadata": {
  "kernelspec": {
   "display_name": "Python 3 (ipykernel)",
   "language": "python",
   "name": "python3"
  },
  "language_info": {
   "codemirror_mode": {
    "name": "ipython",
    "version": 3
   },
   "file_extension": ".py",
   "mimetype": "text/x-python",
   "name": "python",
   "nbconvert_exporter": "python",
   "pygments_lexer": "ipython3",
   "version": "3.9.13"
  },
  "vscode": {
   "interpreter": {
    "hash": "f45ebf2a801f55c914e5d04dd859f0a7608657f9bbbd59759f28d45b308cf7fe"
   }
  }
 },
 "nbformat": 4,
 "nbformat_minor": 5
}
